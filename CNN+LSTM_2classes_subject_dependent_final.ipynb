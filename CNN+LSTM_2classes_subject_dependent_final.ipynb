{
  "cells": [
    {
      "cell_type": "markdown",
      "metadata": {
        "id": "vL0seVN-WOiP"
      },
      "source": [
        "Code for MohammadReza Safari's Thesis\n",
        "Dataset: STEW\n",
        "Analyze in 2classes"
      ]
    },
    {
      "cell_type": "markdown",
      "metadata": {
        "id": "QWzslzxEWy4G"
      },
      "source": [
        "# Initializer"
      ]
    },
    {
      "cell_type": "markdown",
      "metadata": {},
      "source": [
        "This code has been run on google colab."
      ]
    },
    {
      "cell_type": "code",
      "execution_count": null,
      "metadata": {
        "colab": {
          "base_uri": "https://localhost:8080/"
        },
        "id": "Sd45MULkQJIw",
        "outputId": "bd2465ef-637b-478d-d5ef-e54b92ec8a0b"
      },
      "outputs": [
        {
          "name": "stdout",
          "output_type": "stream",
          "text": [
            "Mounted at /content/gdrive\n"
          ]
        }
      ],
      "source": [
        "# 1. mount drive\n",
        "from google.colab import drive\n",
        "drive.mount('/content/gdrive', force_remount=True)"
      ]
    },
    {
      "cell_type": "code",
      "execution_count": null,
      "metadata": {
        "colab": {
          "base_uri": "https://localhost:8080/"
        },
        "id": "LVf95Ru9Rytp",
        "outputId": "a54f1b58-3293-4dff-ca63-0570eedc8f10"
      },
      "outputs": [
        {
          "name": "stdout",
          "output_type": "stream",
          "text": [
            "/content/gdrive/My Drive/Thesis/dDTF_images\n"
          ]
        }
      ],
      "source": [
        "# 2. set directory of data\n",
        "%cd /content/gdrive/My Drive/Thesis/dDTF_images\n",
        "base_dir='/content/gdrive/My Drive/Thesis/dDTF_images/2classes'\n",
        "\n",
        "freq_band = 'alpha'\n",
        "\n",
        "# Define the checkpoint filepath for best model\n",
        "model_checkpoint_filepath = base_dir + '/best_model_2classes_' + freq_band + '_Resnet50LSTM_subject_dependent' + '.h5'\n",
        "history_dir = base_dir + '/hist_Resnet50LSTM_2classes_SGD_subject_dependent' + freq_band\n"
      ]
    },
    {
      "cell_type": "code",
      "execution_count": null,
      "metadata": {
        "id": "TrEa2N_mR0Bw"
      },
      "outputs": [],
      "source": [
        "# 3. import libraries\n",
        "\n",
        "import os\n",
        "import numpy as np\n",
        "\n",
        "import tensorflow as tf\n",
        "\n",
        "from tensorflow.keras.applications.vgg16 import VGG16\n",
        "from tensorflow.keras.applications.resnet import ResNet50\n",
        "from keras.applications.efficientnet import EfficientNetB0\n",
        "\n",
        "from tensorflow.keras import optimizers\n",
        "from tensorflow.keras import models\n",
        "from tensorflow.keras import layers\n",
        "from tensorflow.keras.layers import BatchNormalization\n",
        "from tensorflow.keras import regularizers\n",
        "from tensorflow.keras import backend as K\n",
        "\n",
        "from tensorflow.keras.models import Sequential\n",
        "from tensorflow.keras.layers import Layer,Dense, Dropout, Input, Activation, TimeDistributed, Reshape\n",
        "from tensorflow.keras.layers import  GRU, Bidirectional\n",
        "from tensorflow.keras.layers import  Conv1D, Conv2D, MaxPooling2D, Flatten, BatchNormalization, LSTM, ZeroPadding2D, GlobalAveragePooling2D, SpatialDropout2D, GlobalMaxPool1D,Convolution1D\n",
        "from tensorflow.keras.callbacks import History\n",
        "from tensorflow.keras.models import Model\n",
        "from keras.utils.vis_utils import plot_model\n",
        "from keras.utils import np_utils\n",
        "from collections import Counter\n",
        "import matplotlib.pyplot as plt\n",
        "from sklearn.metrics import confusion_matrix\n",
        "import time\n",
        "import math\n",
        "import random\n",
        "from sklearn.metrics import f1_score, accuracy_score\n",
        "from sklearn.model_selection import StratifiedKFold\n",
        "from sklearn.model_selection import train_test_split\n",
        "from natsort import natsorted\n",
        "from tensorflow.keras.models import save_model, load_model\n",
        "import seaborn as sns\n",
        "from tensorflow.keras.callbacks import EarlyStopping, ModelCheckpoint\n",
        "\n",
        "import cv2\n",
        "import pickle\n",
        "from PIL import Image"
      ]
    },
    {
      "cell_type": "code",
      "execution_count": null,
      "metadata": {
        "id": "PQP-QqwAR1cw"
      },
      "outputs": [],
      "source": [
        "# 4. define some methods\n",
        "\n",
        "def smooth_curve(points, factor=0.2):\n",
        "  smoothed_points = []\n",
        "  for point in points:\n",
        "    if smoothed_points:\n",
        "      previous = smoothed_points[-1]\n",
        "      smoothed_points.append(previous * factor + point * (1 - factor))\n",
        "    else:\n",
        "      smoothed_points.append(point)\n",
        "  return smoothed_points\n",
        "\n",
        "def plot_results(history):\n",
        "  acc = history.history['acc']\n",
        "  val_acc = history.history['val_acc']\n",
        "  loss = history.history['loss']\n",
        "  val_loss = history.history['val_loss']\n",
        "  epochs = range(1, len(acc) + 1)\n",
        "  %matplotlib inline\n",
        "  plt.plot(epochs, smooth_curve(acc), 'r', alpha = 0.6, label='Training acc')\n",
        "  plt.plot(epochs, smooth_curve(val_acc), 'b', alpha = 0.6, label='Validation acc')\n",
        "  plt.title('Training and validation accuracy')\n",
        "  plt.legend()\n",
        "  plt.figure()\n",
        "  plt.plot(epochs, smooth_curve(loss), 'r', alpha = 0.6, label='Training loss')\n",
        "  plt.plot(epochs, smooth_curve(val_loss), 'b', alpha = 0.6, label='Validation loss')\n",
        "  plt.title('Training and validation loss')\n",
        "  plt.legend()\n",
        "  plt.show()\n",
        "\n",
        "\n",
        "# def plot_mean_of_all_folds(train_acc_list, val_acc_list, train_loss_list, val_loss_list):\n",
        "#   # Plot the mean of training and validation accuracy across all folds\n",
        "#   train_acc_mean = np.mean(train_acc_list, axis=0)\n",
        "#   val_acc_mean = np.mean(val_acc_list, axis=0)\n",
        "#   train_loss_mean = np.mean(train_loss_list, axis=0)\n",
        "#   val_loss_mean = np.mean(val_loss_list, axis=0)\n",
        "#   %matplotlib inline\n",
        "#   plt.plot(train_acc_mean, 'r', alpha = 0.6, label='Training Accuracy')\n",
        "#   plt.plot(val_acc_mean, 'b', alpha = 0.6, label='Validation Accuracy')\n",
        "#   plt.title('Training and validation accuracy')\n",
        "#   plt.legend()\n",
        "#   plt.figure()\n",
        "#   plt.plot(train_loss_mean, 'r', alpha = 0.6, label='Training loss')\n",
        "#   plt.plot(val_loss_mean, 'b', alpha = 0.6, label='Validation loss')\n",
        "#   plt.title('Training and validation accuracy')\n",
        "#   plt.legend()\n",
        "#   plt.show()\n",
        "\n",
        "\n",
        "# def calculate_test_accuracy(model, X_test, Y_test):\n",
        "#   fold_results = {}\n",
        "#   Y_test = np_utils.to_categorical(Y_test)\n",
        "#   predicted_probas = model.predict(np.array(X_test),steps = len(X_test))\n",
        "#   fold_results['predicted_probas'] = predicted_probas\n",
        "#   maxindex = predicted_probas[i,:].argmax() ##UnboundLocalError: local variable 'i' referenced before assignment\n",
        "#   binary_prediction=[]\n",
        "#   binary_prediction0=[]\n",
        "#   for i in range(len(predicted_probas)):\n",
        "#      binary_prediction0 = 1 if predicted_probas[i,:].argmax()>=0.5 else 0\n",
        "#     #  binary_prediction0 = np.round(predicted_probas)\n",
        "#      binary_prediction.append(binary_prediction0)\n",
        "#   fold_results['binary_prediction'] = binary_prediction\n",
        "#   conf_mat = confusion_matrix(binary_prediction, Y_test)\n",
        "#   fold_results['confusion_matrix'] = conf_mat\n",
        "#   acc = np.sum(conf_mat.diagonal()) / np.sum(conf_mat)\n",
        "#   fold_results['test_accuracy'] = acc\n",
        "#   print('Overall accuracy: {:.2f} %'.format(acc*100))\n",
        "#   return fold_results\n",
        "\n",
        "def test_accuracy(model, X_test, Y_test):\n",
        "  X_test = np.array(X_test)\n",
        "  Y_test = np.array(Y_test)\n",
        "\n",
        "  Y_test = np_utils.to_categorical(Y_test)\n",
        "  Y_pred = model.predict(X_test)\n",
        "  Y_pred = np.argmax(Y_pred, axis=1)\n",
        "  Y_test = np.argmax(Y_test, axis=1)\n",
        "  test_acc = accuracy_score(Y_pred,Y_test)\n",
        "  cm = confusion_matrix(Y_test, Y_pred)\n",
        "  plot_conf_mat(cm)\n",
        "\n",
        "  return test_acc, cm\n",
        "\n",
        "def plot_conf_mat(cm):\n",
        "  # Normalize the confusion matrix\n",
        "  cm_norm = cm.astype('float') / cm.sum(axis=1)[:, np.newaxis]\n",
        "  conf_labels = ['low', 'high']\n",
        "  sns.heatmap(cm_norm, annot=True, cmap='Blues', fmt='.2%',xticklabels=conf_labels, yticklabels=conf_labels)\n",
        "  plt.xlabel('Predicted')\n",
        "  plt.ylabel('True')\n",
        "  plt.show()\n",
        "\n",
        "\n",
        "def get_model_metrics(cm):\n",
        "  TP = cm[0, 0]\n",
        "  FP = cm[0, 1]\n",
        "  FN = cm[1, 0]\n",
        "  TN = cm[1, 1]\n",
        "  sensitivity = TP / (TP + FN)\n",
        "  specificity = TN / (TN + FP)\n",
        "  precision = TP / (TP + FP)\n",
        "  FAR = FP / (FP + TN)\n",
        "  FRR = FN / (FN + TP)\n",
        "  print(\"Metrics:\")\n",
        "  print(f\"Sensitivity: {sensitivity:.2f}\")\n",
        "  print(f\"Specificity: {specificity:.2f}\")\n",
        "  print(f\"Precision: {precision:.2f}\")\n",
        "  print(f\"FAR: {FAR:.2f}\")\n",
        "  print(f\"FRR: {FRR:.2f}\")\n",
        "\n",
        "  return sensitivity, specificity, precision, FAR, FRR\n",
        "\n",
        "\n",
        "\n",
        "def create_model():\n",
        "  conv_base = ResNet50(weights='imagenet',include_top=False,input_shape=(224, 224, 3)) # include_top=false because we don't want fullyconnected layers.\n",
        "  # conv_base = VGG16(weights='imagenet',include_top=False,input_shape=(224, 224, 3))\n",
        "  # conv_base = EfficientNetB0(weights='imagenet',include_top=False,input_shape=(224, 224, 3))\n",
        "\n",
        "  conv_base.trainable = True\n",
        "\n",
        "  model = models.Sequential()\n",
        "  model.add(conv_base)\n",
        "  model.add(layers.Flatten()) # convert output in a array (x,1). voroodi ro migire va saf mikone.\n",
        "  model.add(layers.Dense(32)) # voroodi ro map mikne roye 32 neuron.\n",
        "\n",
        "  cnn = models.Model(model.input, model.output) # samte rast daqiqn barabar ba 'model' yani mitonest injori bashe: cnn = model. in dastoore models.Model vase vaqtai khobe ke bekhay be laye hat name bedi va az vasataye model khorooji bgiri daron soorat jaye model.output mizari model.[name]\n",
        "  # dim of output: [number of input, 32]\n",
        "\n",
        "  seq_input = Input(shape=(5,224,224,3))\n",
        "\n",
        "  encoded_sequence = TimeDistributed(cnn)(seq_input) # TimeDistributed miad voroodi ro (5,224,224,3) migire mikne 5 ta (224,224,3) va mide be cnn va result ro dar nahayat concat mikne yani mishe [5, 32] ke in 32 khoroojie modele cnn'e.\n",
        "  encoded_sequence = Bidirectional(LSTM(32, return_sequences=True))(encoded_sequence) # 32 ta unit dare va chon bidirectionale pas dotarafast pas mishe 64 ta khorooji. return_sequences=true yani kole sequence haye voroodi ro bargardoon pas khorooji mishe [5, 64]\n",
        "  # encoded_sequence = Dropout(rate=0.1)(encoded_sequence)\n",
        "  encoded_sequence = Bidirectional(LSTM(32, return_sequences=False))(encoded_sequence) # vaqti return_sequences=false mishe yani faqat akharin unit ro mide pas khorooji mishe: [64]\n",
        "\n",
        "  out = Dense(2, activation=\"softmax\")(encoded_sequence)\n",
        "  #out = Convolution1D(1, kernel_size=1, activation=\"sigmoid\", padding=\"same\")(encoded_sequence)\n",
        "  # out = Dense(1, activation=\"sigmoid\")(encoded_sequence)\n",
        "\n",
        "  cnn_lstm = models.Model(seq_input, out)\n",
        "  cnn_lstm.compile(loss='categorical_crossentropy', optimizer=optimizers.SGD(learning_rate=1e-4),metrics=['acc'])\n",
        "  # cnn_lstm.compile(loss='categorical_crossentropy', optimizer=optimizers.Adam(learning_rate=1e-4),metrics=['acc'])\n",
        "  # cnn_lstm.compile(loss='binary_crossentropy', optimizer=optimizers.SGD(learning_rate=1e-4),metrics=['acc'])\n",
        "\n",
        "  if fold_count == 1:\n",
        "    cnn_lstm.summary()\n",
        "  return cnn_lstm\n"
      ]
    },
    {
      "cell_type": "markdown",
      "metadata": {
        "id": "a-lrsCPwR424"
      },
      "source": [
        "# Prepare Data"
      ]
    },
    {
      "cell_type": "code",
      "execution_count": null,
      "metadata": {
        "colab": {
          "base_uri": "https://localhost:8080/"
        },
        "id": "rNNgPMXmR3ng",
        "outputId": "de8e43b1-43b1-465e-b90a-694e1e212c25"
      },
      "outputs": [
        {
          "name": "stdout",
          "output_type": "stream",
          "text": [
            "(1776,)\n",
            "(1776,)\n"
          ]
        }
      ],
      "source": [
        "# 5. load images data from drive\n",
        "# In stew dataset each data has 2.5min or 150sec eeg data and we create dDTF images-\n",
        "# with windowing by size=6sec and step=4sec so 150=6+(n-1)4 --> n=37 images per eeg data\n",
        "\n",
        "# hi_dir = base_dir + '/' + freq_band + '/hi'\n",
        "# hi_data = os.listdir(hi_dir)\n",
        "# hi_data = natsorted(hi_data)\n",
        "# print(np.array(hi_data).shape)\n",
        "\n",
        "# lo_dir = base_dir + '/' + freq_band + '/lo'\n",
        "# lo_data = os.listdir(lo_dir)\n",
        "# lo_data = natsorted(lo_data)\n",
        "# print(np.array(lo_data).shape)\n"
      ]
    },
    {
      "cell_type": "code",
      "execution_count": null,
      "metadata": {
        "colab": {
          "base_uri": "https://localhost:8080/"
        },
        "id": "ou7gqyUJR8uQ",
        "outputId": "c78c1e79-37a6-4f12-88b8-1b8dcb936f7d"
      },
      "outputs": [
        {
          "name": "stdout",
          "output_type": "stream",
          "text": [
            "(1776,)\n",
            "(1776,)\n"
          ]
        }
      ],
      "source": [
        "# 6. Resize images. this cell may take some time\n",
        "\n",
        "# X_q1 = []\n",
        "# for img in lo_data:\n",
        "#     with Image.open(lo_dir+\"/\"+img) as im:\n",
        "#       resized_im = im.resize((224,224))\n",
        "#       X_q1.append(resized_im)\n",
        "# print(np.shape(X_q1))\n",
        "\n",
        "# X_q2 = []\n",
        "# for img in hi_data:\n",
        "#     with Image.open(hi_dir+\"/\"+img) as im:\n",
        "#       resized_im = im.resize((224,224))\n",
        "#       X_q2.append(resized_im)\n",
        "# print(np.shape(X_q2))"
      ]
    },
    {
      "cell_type": "code",
      "execution_count": null,
      "metadata": {
        "id": "SXmoBWL5R_Rg"
      },
      "outputs": [],
      "source": [
        "# 7. create images_data that is a collection from all classes\n",
        "\n",
        "# Images_data = X_q1 + X_q2 # [lo,hi]\n"
      ]
    },
    {
      "cell_type": "code",
      "execution_count": null,
      "metadata": {
        "id": "-reJGlDkSAkX"
      },
      "outputs": [],
      "source": [
        "# 8. dump images_data as Images_data.\n",
        "\n",
        "# with open(base_dir+'/Images_data_2classes_' + freq_band , 'wb') as file_pi1:\n",
        "#     pickle.dump(Images_data, file_pi1)\n"
      ]
    },
    {
      "cell_type": "code",
      "execution_count": null,
      "metadata": {
        "colab": {
          "base_uri": "https://localhost:8080/"
        },
        "id": "W1M2ofwESCDH",
        "outputId": "765b4994-dfa5-449a-94da-0d7e2822e96b"
      },
      "outputs": [
        {
          "name": "stdout",
          "output_type": "stream",
          "text": [
            "(3552,)\n"
          ]
        }
      ],
      "source": [
        "# 9. load the images_data from drive if you don't wanna run from first cell.\n",
        "\n",
        "with open(base_dir+'/Images_data_2classes_' + freq_band , 'rb') as f:\n",
        "    Images_data = pickle.load(f)\n",
        "\n",
        "print(np.shape(Images_data))\n"
      ]
    },
    {
      "cell_type": "code",
      "execution_count": null,
      "metadata": {
        "colab": {
          "base_uri": "https://localhost:8080/"
        },
        "id": "vKt3C2m7YVJZ",
        "outputId": "f3337feb-0057-41db-b1c0-452828654474"
      },
      "outputs": [
        {
          "name": "stdout",
          "output_type": "stream",
          "text": [
            "<class 'numpy.ndarray'>\n",
            "(224, 224, 3)\n",
            "(3552, 224, 224, 3)\n"
          ]
        }
      ],
      "source": [
        "Images_data = [np.asarray(img) for img in Images_data]\n",
        "\n",
        "print(type(Images_data[0]));\n",
        "print(np.shape(Images_data[0]))\n",
        "print(np.shape(Images_data)) # (3552, 224, 224, 3)\n"
      ]
    },
    {
      "cell_type": "markdown",
      "metadata": {
        "id": "gdpuMiP8SEpC"
      },
      "source": [
        "Prepare the video samples"
      ]
    },
    {
      "cell_type": "code",
      "execution_count": null,
      "metadata": {
        "id": "VgnwTP1bT597"
      },
      "outputs": [],
      "source": [
        "q1 = 1776*[0]\n",
        "q2 = 1776*[1]\n",
        "\n",
        "labels = q1+q2\n",
        "#labels\n",
        "\n",
        "from sklearn.model_selection import train_test_split\n",
        "X_train, X_test, Y_train, Y_test = train_test_split(Images_data,labels,test_size=0.1, random_state=6)"
      ]
    },
    {
      "cell_type": "code",
      "execution_count": null,
      "metadata": {
        "colab": {
          "base_uri": "https://localhost:8080/"
        },
        "id": "m0LTJcftSD7P",
        "outputId": "64303d02-ff87-4073-8838-64a09cd22c0e"
      },
      "outputs": [
        {
          "name": "stdout",
          "output_type": "stream",
          "text": [
            "(224, 224, 3)\n",
            "(1776, 224, 224, 3)\n",
            "(1776, 224, 224, 3)\n"
          ]
        }
      ],
      "source": [
        "# 11. If you start running from 9th cell you need run this cell to define X_q1 and X_q2\n",
        "\n",
        "X_q1 = Images_data[:37*48]\n",
        "X_q2 = Images_data[37*48:]\n",
        "\n",
        "print(np.shape(X_q1[0]))\n",
        "print(np.shape(X_q1)) # (1776, 224, 224, 3)\n",
        "print(np.shape(X_q2))"
      ]
    },
    {
      "cell_type": "code",
      "execution_count": null,
      "metadata": {
        "colab": {
          "base_uri": "https://localhost:8080/"
        },
        "id": "ACMebGqwSJcq",
        "outputId": "3372abaa-5cd1-45ff-97bf-bb1cb69efa48"
      },
      "outputs": [
        {
          "name": "stdout",
          "output_type": "stream",
          "text": [
            "(1584, 5, 224, 224, 3)\n",
            "33\n",
            "(1584, 5, 224, 224, 3)\n",
            "33\n"
          ]
        }
      ],
      "source": [
        "# 12. create video data of classes\n",
        "\n",
        "video_q1 = []\n",
        "subj = 0\n",
        "stride = 1\n",
        "init_frame = 0\n",
        "frame_length = 5 # 5 images per video\n",
        "for subj in range(48): # number of subjects in class = 'lo'\n",
        "  for img in range(37): #stride 1/number of images of each subject / / 48 * (37-5+1) = 1584 total video samples per freq. band (ie. gama)\n",
        "       if img+frame_length>37:\n",
        "          break\n",
        "       tmp_video = X_q1[subj*37+img:subj*37+img+frame_length]\n",
        "       # first 0-5 second 1-6 third 2-7 last 32-37\n",
        "       # 33 movies for each patient. 33*43 movie in total.\n",
        "       video_q1.append(tmp_video)\n",
        "\n",
        "print(np.shape(video_q1)) # The result will be (1584, 5, 224, 224, 3) that is 1584 videos that each of them consist of 5 frames of (224,224,3) images\n",
        "print(img)\n",
        "\n",
        "\n",
        "video_q2 = []\n",
        "subj = 0\n",
        "stride = 1\n",
        "init_frame = 0\n",
        "frame_length = 5\n",
        "for subj in range(48): # number of subjects\n",
        "  for img in range(37): #stride 1/number of images of each subject\n",
        "       if img+frame_length>37:\n",
        "          break\n",
        "       tmp_video = X_q2[subj*37+img:subj*37+img+frame_length]\n",
        "       video_q2.append(tmp_video)\n",
        "\n",
        "print(np.shape(video_q2)) # (1584, 5, 224, 224, 3)\n",
        "print(img)\n"
      ]
    },
    {
      "cell_type": "code",
      "execution_count": null,
      "metadata": {
        "colab": {
          "base_uri": "https://localhost:8080/"
        },
        "id": "BDvZg_PtSK1Z",
        "outputId": "3333706f-c84e-4399-cbff-b529b83e60a2"
      },
      "outputs": [
        {
          "name": "stdout",
          "output_type": "stream",
          "text": [
            "(3168, 5, 224, 224, 3)\n"
          ]
        }
      ],
      "source": [
        "# 14. create video_data that is a collection of all classes and then clear memory\n",
        "\n",
        "video_data = video_q1 + video_q2\n",
        "print(np.shape(video_data)) # (3168, 5, 224, 224, 3)\n"
      ]
    },
    {
      "cell_type": "code",
      "execution_count": null,
      "metadata": {
        "id": "Q_ZU1UCuSOgJ"
      },
      "outputs": [],
      "source": [
        "# 15. dump video_classes as video_data\n",
        "\n",
        "# with open(base_dir+'/video_data_2classes_' + freq_band + '_train', 'wb') as file_pi1:\n",
        "#     pickle.dump(video_data, file_pi1)\n",
        "\n",
        "# with open(base_dir+'/video_data_2classes_' + freq_band + '_test', 'wb') as file_pi1:\n",
        "#     pickle.dump(video_data_test, file_pi1)"
      ]
    },
    {
      "cell_type": "code",
      "execution_count": null,
      "metadata": {
        "colab": {
          "base_uri": "https://localhost:8080/"
        },
        "id": "2aJgk3sKSQNn",
        "outputId": "9b4e0240-b8e7-44b9-b913-3ef5a35daa5c"
      },
      "outputs": [
        {
          "name": "stdout",
          "output_type": "stream",
          "text": [
            "(2838, 5, 224, 224, 3)\n",
            "(330, 5, 224, 224, 3)\n"
          ]
        }
      ],
      "source": [
        "# 16. load video_classes from drive\n",
        "\n",
        "# with open(base_dir+'/video_data_2classes_' + freq_band + '_train', 'rb') as f:\n",
        "#     video_data = pickle.load(f)\n",
        "\n",
        "# print(np.shape(video_data)) # (2838, 5, 224, 224, 3)\n",
        "\n",
        "# with open(base_dir+'/video_data_2classes_' + freq_band + '_test', 'rb') as f:\n",
        "#     video_data_test = pickle.load(f)\n",
        "\n",
        "# print(np.shape(video_data_test)) # (330, 5, 224, 224, 3)"
      ]
    },
    {
      "cell_type": "code",
      "execution_count": null,
      "metadata": {
        "colab": {
          "base_uri": "https://localhost:8080/"
        },
        "id": "X7eSWcE8c0Em",
        "outputId": "27e2d264-a451-4e6d-803b-b62b2de7e953"
      },
      "outputs": [
        {
          "name": "stdout",
          "output_type": "stream",
          "text": [
            "(2851, 5, 224, 224, 3)\n",
            "(317, 5, 224, 224, 3)\n",
            "(2851,)\n",
            "(317,)\n"
          ]
        }
      ],
      "source": [
        "from sklearn.model_selection import train_test_split\n",
        "q1 = 1584*[0] #lo\n",
        "q2 = 1584*[1] #hi\n",
        "labels = q1 + q2\n",
        "X_train, X_test, Y_train, Y_test = train_test_split(video_data,labels,test_size=0.1, random_state=8)\n",
        "print(np.shape(X_train)) # (2851, 5, 224, 224, 3)\n",
        "print(np.shape(X_test)) # (317, 5, 224, 224, 3)\n",
        "print(np.shape(Y_train)) # (2851, )\n",
        "print(np.shape(Y_test)) # (317, )\n",
        "\n"
      ]
    },
    {
      "cell_type": "markdown",
      "metadata": {
        "id": "qKLEXB1hyZSR"
      },
      "source": [
        "# Splitting data"
      ]
    },
    {
      "cell_type": "code",
      "execution_count": null,
      "metadata": {
        "id": "LmkH7zv9Z6By"
      },
      "outputs": [],
      "source": [
        "# clear memory\n",
        "\n",
        "q1 = []\n",
        "q2 = []\n",
        "q1_test = []\n",
        "q2_test = []\n",
        "labels = []\n",
        "labels_test = []\n",
        "video_data = []\n",
        "video_data_test = []\n",
        "video_q1 = []\n",
        "video_q2 = []\n",
        "video_q1_test = []\n",
        "video_q2_test = []\n",
        "Images_data = []\n",
        "Images_data_test = []\n",
        "X_q1 = []\n",
        "X_q2 = []\n",
        "X_q1_test = []\n",
        "X_q2_test = []"
      ]
    },
    {
      "cell_type": "markdown",
      "metadata": {
        "id": "4gYjfX0aymyZ"
      },
      "source": [
        "# Create and Fit the model"
      ]
    },
    {
      "cell_type": "code",
      "execution_count": null,
      "metadata": {
        "colab": {
          "base_uri": "https://localhost:8080/",
          "height": 1000
        },
        "id": "K2gqvT35SWCP",
        "outputId": "e07c0da4-b04c-4178-e697-c9093becc3a1"
      },
      "outputs": [
        {
          "name": "stdout",
          "output_type": "stream",
          "text": [
            "Downloading data from https://storage.googleapis.com/tensorflow/keras-applications/resnet/resnet50_weights_tf_dim_ordering_tf_kernels_notop.h5\n",
            "94765736/94765736 [==============================] - 0s 0us/step\n",
            "Model: \"model_1\"\n",
            "_________________________________________________________________\n",
            " Layer (type)                Output Shape              Param #   \n",
            "=================================================================\n",
            " input_2 (InputLayer)        [(None, 5, 224, 224, 3)]  0         \n",
            "                                                                 \n",
            " time_distributed (TimeDistr  (None, 5, 32)            26799008  \n",
            " ibuted)                                                         \n",
            "                                                                 \n",
            " bidirectional (Bidirectiona  (None, 5, 64)            16640     \n",
            " l)                                                              \n",
            "                                                                 \n",
            " bidirectional_1 (Bidirectio  (None, 64)               24832     \n",
            " nal)                                                            \n",
            "                                                                 \n",
            " dense_1 (Dense)             (None, 2)                 130       \n",
            "                                                                 \n",
            "=================================================================\n",
            "Total params: 26,840,610\n",
            "Trainable params: 26,787,490\n",
            "Non-trainable params: 53,120\n",
            "_________________________________________________________________\n",
            "Epoch 1/50\n",
            "228/228 [==============================] - ETA: 0s - loss: 0.6618 - acc: 0.6373\n",
            "Epoch 1: val_loss improved from inf to 0.62619, saving model to /content/gdrive/My Drive/Thesis/dDTF_images/2classes/best_model_2classes_alpha_Resnet50LSTM_subject_dependent.h5\n",
            "228/228 [==============================] - 197s 706ms/step - loss: 0.6618 - acc: 0.6373 - val_loss: 0.6262 - val_acc: 0.7408\n",
            "Epoch 2/50\n",
            "228/228 [==============================] - ETA: 0s - loss: 0.5837 - acc: 0.7882\n",
            "Epoch 2: val_loss improved from 0.62619 to 0.56139, saving model to /content/gdrive/My Drive/Thesis/dDTF_images/2classes/best_model_2classes_alpha_Resnet50LSTM_subject_dependent.h5\n",
            "228/228 [==============================] - 164s 720ms/step - loss: 0.5837 - acc: 0.7882 - val_loss: 0.5614 - val_acc: 0.8004\n",
            "Epoch 3/50\n",
            "228/228 [==============================] - ETA: 0s - loss: 0.5043 - acc: 0.8430\n",
            "Epoch 3: val_loss improved from 0.56139 to 0.50272, saving model to /content/gdrive/My Drive/Thesis/dDTF_images/2classes/best_model_2classes_alpha_Resnet50LSTM_subject_dependent.h5\n",
            "228/228 [==============================] - 164s 721ms/step - loss: 0.5043 - acc: 0.8430 - val_loss: 0.5027 - val_acc: 0.8161\n",
            "Epoch 4/50\n",
            "228/228 [==============================] - ETA: 0s - loss: 0.4422 - acc: 0.8798\n",
            "Epoch 4: val_loss improved from 0.50272 to 0.48724, saving model to /content/gdrive/My Drive/Thesis/dDTF_images/2classes/best_model_2classes_alpha_Resnet50LSTM_subject_dependent.h5\n",
            "228/228 [==============================] - 164s 722ms/step - loss: 0.4422 - acc: 0.8798 - val_loss: 0.4872 - val_acc: 0.8074\n",
            "Epoch 5/50\n",
            "228/228 [==============================] - ETA: 0s - loss: 0.3947 - acc: 0.9031\n",
            "Epoch 5: val_loss improved from 0.48724 to 0.41500, saving model to /content/gdrive/My Drive/Thesis/dDTF_images/2classes/best_model_2classes_alpha_Resnet50LSTM_subject_dependent.h5\n",
            "228/228 [==============================] - 165s 722ms/step - loss: 0.3947 - acc: 0.9031 - val_loss: 0.4150 - val_acc: 0.8792\n",
            "Epoch 6/50\n",
            "228/228 [==============================] - ETA: 0s - loss: 0.3525 - acc: 0.9351\n",
            "Epoch 6: val_loss improved from 0.41500 to 0.41068, saving model to /content/gdrive/My Drive/Thesis/dDTF_images/2classes/best_model_2classes_alpha_Resnet50LSTM_subject_dependent.h5\n",
            "228/228 [==============================] - 165s 723ms/step - loss: 0.3525 - acc: 0.9351 - val_loss: 0.4107 - val_acc: 0.8739\n",
            "Epoch 7/50\n",
            "228/228 [==============================] - ETA: 0s - loss: 0.3230 - acc: 0.9482\n",
            "Epoch 7: val_loss improved from 0.41068 to 0.40195, saving model to /content/gdrive/My Drive/Thesis/dDTF_images/2classes/best_model_2classes_alpha_Resnet50LSTM_subject_dependent.h5\n",
            "228/228 [==============================] - 164s 720ms/step - loss: 0.3230 - acc: 0.9482 - val_loss: 0.4019 - val_acc: 0.8687\n",
            "Epoch 8/50\n",
            "228/228 [==============================] - ETA: 0s - loss: 0.2893 - acc: 0.9636\n",
            "Epoch 8: val_loss improved from 0.40195 to 0.31671, saving model to /content/gdrive/My Drive/Thesis/dDTF_images/2classes/best_model_2classes_alpha_Resnet50LSTM_subject_dependent.h5\n",
            "228/228 [==============================] - 164s 721ms/step - loss: 0.2893 - acc: 0.9636 - val_loss: 0.3167 - val_acc: 0.9282\n",
            "Epoch 9/50\n",
            "228/228 [==============================] - ETA: 0s - loss: 0.2637 - acc: 0.9719\n",
            "Epoch 9: val_loss did not improve from 0.31671\n",
            "228/228 [==============================] - 162s 709ms/step - loss: 0.2637 - acc: 0.9719 - val_loss: 0.3386 - val_acc: 0.9142\n",
            "Epoch 10/50\n",
            "228/228 [==============================] - ETA: 0s - loss: 0.2429 - acc: 0.9772\n",
            "Epoch 10: val_loss did not improve from 0.31671\n",
            "228/228 [==============================] - 162s 709ms/step - loss: 0.2429 - acc: 0.9772 - val_loss: 0.3319 - val_acc: 0.9107\n",
            "Epoch 11/50\n",
            "228/228 [==============================] - ETA: 0s - loss: 0.2226 - acc: 0.9846\n",
            "Epoch 11: val_loss improved from 0.31671 to 0.23734, saving model to /content/gdrive/My Drive/Thesis/dDTF_images/2classes/best_model_2classes_alpha_Resnet50LSTM_subject_dependent.h5\n",
            "228/228 [==============================] - 164s 722ms/step - loss: 0.2226 - acc: 0.9846 - val_loss: 0.2373 - val_acc: 0.9702\n",
            "Epoch 12/50\n",
            "228/228 [==============================] - ETA: 0s - loss: 0.2065 - acc: 0.9838\n",
            "Epoch 12: val_loss did not improve from 0.23734\n",
            "228/228 [==============================] - 162s 710ms/step - loss: 0.2065 - acc: 0.9838 - val_loss: 0.2384 - val_acc: 0.9615\n",
            "Epoch 13/50\n",
            "228/228 [==============================] - ETA: 0s - loss: 0.1904 - acc: 0.9912\n",
            "Epoch 13: val_loss improved from 0.23734 to 0.20865, saving model to /content/gdrive/My Drive/Thesis/dDTF_images/2classes/best_model_2classes_alpha_Resnet50LSTM_subject_dependent.h5\n",
            "228/228 [==============================] - 164s 721ms/step - loss: 0.1904 - acc: 0.9912 - val_loss: 0.2087 - val_acc: 0.9755\n",
            "Epoch 14/50\n",
            "228/228 [==============================] - ETA: 0s - loss: 0.1781 - acc: 0.9912\n",
            "Epoch 14: val_loss improved from 0.20865 to 0.19214, saving model to /content/gdrive/My Drive/Thesis/dDTF_images/2classes/best_model_2classes_alpha_Resnet50LSTM_subject_dependent.h5\n",
            "228/228 [==============================] - 164s 719ms/step - loss: 0.1781 - acc: 0.9912 - val_loss: 0.1921 - val_acc: 0.9842\n",
            "Epoch 15/50\n",
            "228/228 [==============================] - ETA: 0s - loss: 0.1656 - acc: 0.9917\n",
            "Epoch 15: val_loss did not improve from 0.19214\n",
            "228/228 [==============================] - 162s 710ms/step - loss: 0.1656 - acc: 0.9917 - val_loss: 0.1923 - val_acc: 0.9755\n",
            "Epoch 16/50\n",
            "228/228 [==============================] - ETA: 0s - loss: 0.1560 - acc: 0.9939\n",
            "Epoch 16: val_loss improved from 0.19214 to 0.17558, saving model to /content/gdrive/My Drive/Thesis/dDTF_images/2classes/best_model_2classes_alpha_Resnet50LSTM_subject_dependent.h5\n",
            "228/228 [==============================] - 164s 721ms/step - loss: 0.1560 - acc: 0.9939 - val_loss: 0.1756 - val_acc: 0.9860\n",
            "Epoch 17/50\n",
            "228/228 [==============================] - ETA: 0s - loss: 0.1472 - acc: 0.9952\n",
            "Epoch 17: val_loss improved from 0.17558 to 0.16581, saving model to /content/gdrive/My Drive/Thesis/dDTF_images/2classes/best_model_2classes_alpha_Resnet50LSTM_subject_dependent.h5\n",
            "228/228 [==============================] - 164s 721ms/step - loss: 0.1472 - acc: 0.9952 - val_loss: 0.1658 - val_acc: 0.9860\n",
            "Epoch 18/50\n",
            "228/228 [==============================] - ETA: 0s - loss: 0.1365 - acc: 0.9978\n",
            "Epoch 18: val_loss improved from 0.16581 to 0.15365, saving model to /content/gdrive/My Drive/Thesis/dDTF_images/2classes/best_model_2classes_alpha_Resnet50LSTM_subject_dependent.h5\n",
            "228/228 [==============================] - 164s 721ms/step - loss: 0.1365 - acc: 0.9978 - val_loss: 0.1536 - val_acc: 0.9930\n",
            "Epoch 19/50\n",
            "228/228 [==============================] - ETA: 0s - loss: 0.1294 - acc: 0.9982\n",
            "Epoch 19: val_loss improved from 0.15365 to 0.14081, saving model to /content/gdrive/My Drive/Thesis/dDTF_images/2classes/best_model_2classes_alpha_Resnet50LSTM_subject_dependent.h5\n",
            "228/228 [==============================] - 164s 721ms/step - loss: 0.1294 - acc: 0.9982 - val_loss: 0.1408 - val_acc: 0.9947\n",
            "Epoch 20/50\n",
            "228/228 [==============================] - ETA: 0s - loss: 0.1215 - acc: 0.9982\n",
            "Epoch 20: val_loss did not improve from 0.14081\n",
            "228/228 [==============================] - 162s 710ms/step - loss: 0.1215 - acc: 0.9982 - val_loss: 0.1463 - val_acc: 0.9860\n",
            "Epoch 21/50\n",
            "228/228 [==============================] - ETA: 0s - loss: 0.1148 - acc: 0.9991\n",
            "Epoch 21: val_loss improved from 0.14081 to 0.13348, saving model to /content/gdrive/My Drive/Thesis/dDTF_images/2classes/best_model_2classes_alpha_Resnet50LSTM_subject_dependent.h5\n",
            "228/228 [==============================] - 164s 720ms/step - loss: 0.1148 - acc: 0.9991 - val_loss: 0.1335 - val_acc: 0.9930\n",
            "Epoch 22/50\n",
            "228/228 [==============================] - ETA: 0s - loss: 0.1089 - acc: 0.9991\n",
            "Epoch 22: val_loss improved from 0.13348 to 0.12068, saving model to /content/gdrive/My Drive/Thesis/dDTF_images/2classes/best_model_2classes_alpha_Resnet50LSTM_subject_dependent.h5\n",
            "228/228 [==============================] - 165s 724ms/step - loss: 0.1089 - acc: 0.9991 - val_loss: 0.1207 - val_acc: 0.9947\n",
            "Epoch 23/50\n",
            "228/228 [==============================] - ETA: 0s - loss: 0.1043 - acc: 0.9996\n",
            "Epoch 23: val_loss did not improve from 0.12068\n",
            "228/228 [==============================] - 162s 709ms/step - loss: 0.1043 - acc: 0.9996 - val_loss: 0.1658 - val_acc: 0.9807\n",
            "Epoch 24/50\n",
            "228/228 [==============================] - ETA: 0s - loss: 0.0993 - acc: 0.9996\n",
            "Epoch 24: val_loss did not improve from 0.12068\n",
            "228/228 [==============================] - 162s 710ms/step - loss: 0.0993 - acc: 0.9996 - val_loss: 0.1496 - val_acc: 0.9895\n",
            "Epoch 25/50\n",
            "228/228 [==============================] - ETA: 0s - loss: 0.0948 - acc: 0.9991\n",
            "Epoch 25: val_loss did not improve from 0.12068\n",
            "228/228 [==============================] - 162s 710ms/step - loss: 0.0948 - acc: 0.9991 - val_loss: 0.1227 - val_acc: 0.9947\n",
            "Epoch 26/50\n",
            "228/228 [==============================] - ETA: 0s - loss: 0.0898 - acc: 1.0000\n",
            "Epoch 26: val_loss improved from 0.12068 to 0.10177, saving model to /content/gdrive/My Drive/Thesis/dDTF_images/2classes/best_model_2classes_alpha_Resnet50LSTM_subject_dependent.h5\n",
            "228/228 [==============================] - 164s 720ms/step - loss: 0.0898 - acc: 1.0000 - val_loss: 0.1018 - val_acc: 0.9982\n",
            "Epoch 27/50\n",
            "228/228 [==============================] - ETA: 0s - loss: 0.0871 - acc: 1.0000\n",
            "Epoch 27: val_loss improved from 0.10177 to 0.09595, saving model to /content/gdrive/My Drive/Thesis/dDTF_images/2classes/best_model_2classes_alpha_Resnet50LSTM_subject_dependent.h5\n",
            "228/228 [==============================] - 164s 720ms/step - loss: 0.0871 - acc: 1.0000 - val_loss: 0.0959 - val_acc: 0.9982\n",
            "Epoch 28/50\n",
            "228/228 [==============================] - ETA: 0s - loss: 0.0821 - acc: 1.0000\n",
            "Epoch 28: val_loss improved from 0.09595 to 0.09571, saving model to /content/gdrive/My Drive/Thesis/dDTF_images/2classes/best_model_2classes_alpha_Resnet50LSTM_subject_dependent.h5\n",
            "228/228 [==============================] - 164s 720ms/step - loss: 0.0821 - acc: 1.0000 - val_loss: 0.0957 - val_acc: 0.9947\n",
            "Epoch 29/50\n",
            "228/228 [==============================] - ETA: 0s - loss: 0.0784 - acc: 1.0000\n",
            "Epoch 29: val_loss improved from 0.09571 to 0.09112, saving model to /content/gdrive/My Drive/Thesis/dDTF_images/2classes/best_model_2classes_alpha_Resnet50LSTM_subject_dependent.h5\n",
            "228/228 [==============================] - 165s 723ms/step - loss: 0.0784 - acc: 1.0000 - val_loss: 0.0911 - val_acc: 0.9965\n",
            "Epoch 30/50\n",
            "228/228 [==============================] - ETA: 0s - loss: 0.0754 - acc: 1.0000\n",
            "Epoch 30: val_loss improved from 0.09112 to 0.08812, saving model to /content/gdrive/My Drive/Thesis/dDTF_images/2classes/best_model_2classes_alpha_Resnet50LSTM_subject_dependent.h5\n",
            "228/228 [==============================] - 164s 720ms/step - loss: 0.0754 - acc: 1.0000 - val_loss: 0.0881 - val_acc: 0.9965\n",
            "Epoch 31/50\n",
            "228/228 [==============================] - ETA: 0s - loss: 0.0726 - acc: 1.0000\n",
            "Epoch 31: val_loss did not improve from 0.08812\n",
            "228/228 [==============================] - 162s 709ms/step - loss: 0.0726 - acc: 1.0000 - val_loss: 0.0966 - val_acc: 0.9912\n",
            "Epoch 32/50\n",
            "228/228 [==============================] - ETA: 0s - loss: 0.0701 - acc: 1.0000\n",
            "Epoch 32: val_loss did not improve from 0.08812\n",
            "228/228 [==============================] - 162s 710ms/step - loss: 0.0701 - acc: 1.0000 - val_loss: 0.0970 - val_acc: 0.9965\n",
            "Epoch 33/50\n",
            "228/228 [==============================] - ETA: 0s - loss: 0.0668 - acc: 1.0000\n",
            "Epoch 33: val_loss improved from 0.08812 to 0.07595, saving model to /content/gdrive/My Drive/Thesis/dDTF_images/2classes/best_model_2classes_alpha_Resnet50LSTM_subject_dependent.h5\n",
            "228/228 [==============================] - 164s 719ms/step - loss: 0.0668 - acc: 1.0000 - val_loss: 0.0760 - val_acc: 0.9982\n",
            "Epoch 34/50\n",
            "228/228 [==============================] - ETA: 0s - loss: 0.0646 - acc: 1.0000\n",
            "Epoch 34: val_loss improved from 0.07595 to 0.07211, saving model to /content/gdrive/My Drive/Thesis/dDTF_images/2classes/best_model_2classes_alpha_Resnet50LSTM_subject_dependent.h5\n",
            "228/228 [==============================] - 164s 720ms/step - loss: 0.0646 - acc: 1.0000 - val_loss: 0.0721 - val_acc: 0.9982\n",
            "Epoch 35/50\n",
            "228/228 [==============================] - ETA: 0s - loss: 0.0618 - acc: 1.0000\n",
            "Epoch 35: val_loss did not improve from 0.07211\n",
            "228/228 [==============================] - 162s 710ms/step - loss: 0.0618 - acc: 1.0000 - val_loss: 0.0734 - val_acc: 0.9982\n",
            "Epoch 36/50\n",
            "228/228 [==============================] - ETA: 0s - loss: 0.0597 - acc: 1.0000\n",
            "Epoch 36: val_loss improved from 0.07211 to 0.06950, saving model to /content/gdrive/My Drive/Thesis/dDTF_images/2classes/best_model_2classes_alpha_Resnet50LSTM_subject_dependent.h5\n",
            "228/228 [==============================] - 165s 723ms/step - loss: 0.0597 - acc: 1.0000 - val_loss: 0.0695 - val_acc: 0.9965\n",
            "Epoch 37/50\n",
            "228/228 [==============================] - ETA: 0s - loss: 0.0572 - acc: 1.0000\n",
            "Epoch 37: val_loss improved from 0.06950 to 0.06621, saving model to /content/gdrive/My Drive/Thesis/dDTF_images/2classes/best_model_2classes_alpha_Resnet50LSTM_subject_dependent.h5\n",
            "228/228 [==============================] - 164s 720ms/step - loss: 0.0572 - acc: 1.0000 - val_loss: 0.0662 - val_acc: 0.9982\n",
            "Epoch 38/50\n",
            "228/228 [==============================] - ETA: 0s - loss: 0.0555 - acc: 1.0000\n",
            "Epoch 38: val_loss did not improve from 0.06621\n",
            "228/228 [==============================] - 162s 709ms/step - loss: 0.0555 - acc: 1.0000 - val_loss: 0.0704 - val_acc: 0.9982\n",
            "Epoch 39/50\n",
            "228/228 [==============================] - ETA: 0s - loss: 0.0537 - acc: 1.0000\n",
            "Epoch 39: val_loss improved from 0.06621 to 0.06096, saving model to /content/gdrive/My Drive/Thesis/dDTF_images/2classes/best_model_2classes_alpha_Resnet50LSTM_subject_dependent.h5\n",
            "228/228 [==============================] - 164s 721ms/step - loss: 0.0537 - acc: 1.0000 - val_loss: 0.0610 - val_acc: 0.9982\n",
            "Epoch 40/50\n",
            "228/228 [==============================] - ETA: 0s - loss: 0.0525 - acc: 1.0000\n",
            "Epoch 40: val_loss improved from 0.06096 to 0.06063, saving model to /content/gdrive/My Drive/Thesis/dDTF_images/2classes/best_model_2classes_alpha_Resnet50LSTM_subject_dependent.h5\n",
            "228/228 [==============================] - 164s 721ms/step - loss: 0.0525 - acc: 1.0000 - val_loss: 0.0606 - val_acc: 0.9982\n",
            "Epoch 41/50\n",
            "228/228 [==============================] - ETA: 0s - loss: 0.0506 - acc: 1.0000\n",
            "Epoch 41: val_loss did not improve from 0.06063\n",
            "228/228 [==============================] - 162s 710ms/step - loss: 0.0506 - acc: 1.0000 - val_loss: 0.0614 - val_acc: 0.9982\n",
            "Epoch 42/50\n",
            "228/228 [==============================] - ETA: 0s - loss: 0.0493 - acc: 1.0000\n",
            "Epoch 42: val_loss improved from 0.06063 to 0.05578, saving model to /content/gdrive/My Drive/Thesis/dDTF_images/2classes/best_model_2classes_alpha_Resnet50LSTM_subject_dependent.h5\n",
            "228/228 [==============================] - 164s 720ms/step - loss: 0.0493 - acc: 1.0000 - val_loss: 0.0558 - val_acc: 0.9982\n",
            "Epoch 43/50\n",
            "228/228 [==============================] - ETA: 0s - loss: 0.0479 - acc: 1.0000\n",
            "Epoch 43: val_loss improved from 0.05578 to 0.05355, saving model to /content/gdrive/My Drive/Thesis/dDTF_images/2classes/best_model_2classes_alpha_Resnet50LSTM_subject_dependent.h5\n",
            "228/228 [==============================] - 164s 720ms/step - loss: 0.0479 - acc: 1.0000 - val_loss: 0.0536 - val_acc: 0.9982\n",
            "Epoch 44/50\n",
            "228/228 [==============================] - ETA: 0s - loss: 0.0467 - acc: 1.0000\n",
            "Epoch 44: val_loss did not improve from 0.05355\n",
            "228/228 [==============================] - 162s 710ms/step - loss: 0.0467 - acc: 1.0000 - val_loss: 0.0545 - val_acc: 0.9982\n",
            "Epoch 45/50\n",
            "228/228 [==============================] - ETA: 0s - loss: 0.0452 - acc: 1.0000\n",
            "Epoch 45: val_loss improved from 0.05355 to 0.05109, saving model to /content/gdrive/My Drive/Thesis/dDTF_images/2classes/best_model_2classes_alpha_Resnet50LSTM_subject_dependent.h5\n",
            "228/228 [==============================] - 165s 723ms/step - loss: 0.0452 - acc: 1.0000 - val_loss: 0.0511 - val_acc: 0.9982\n",
            "Epoch 46/50\n",
            "228/228 [==============================] - ETA: 0s - loss: 0.0432 - acc: 1.0000\n",
            "Epoch 46: val_loss did not improve from 0.05109\n",
            "228/228 [==============================] - 162s 712ms/step - loss: 0.0432 - acc: 1.0000 - val_loss: 0.0521 - val_acc: 0.9982\n",
            "Epoch 47/50\n",
            "228/228 [==============================] - ETA: 0s - loss: 0.0428 - acc: 1.0000\n",
            "Epoch 47: val_loss improved from 0.05109 to 0.05085, saving model to /content/gdrive/My Drive/Thesis/dDTF_images/2classes/best_model_2classes_alpha_Resnet50LSTM_subject_dependent.h5\n",
            "228/228 [==============================] - 165s 723ms/step - loss: 0.0428 - acc: 1.0000 - val_loss: 0.0508 - val_acc: 0.9982\n",
            "Epoch 48/50\n",
            "228/228 [==============================] - ETA: 0s - loss: 0.0411 - acc: 1.0000\n",
            "Epoch 48: val_loss improved from 0.05085 to 0.04785, saving model to /content/gdrive/My Drive/Thesis/dDTF_images/2classes/best_model_2classes_alpha_Resnet50LSTM_subject_dependent.h5\n",
            "228/228 [==============================] - 164s 721ms/step - loss: 0.0411 - acc: 1.0000 - val_loss: 0.0478 - val_acc: 0.9982\n",
            "Epoch 49/50\n",
            "228/228 [==============================] - ETA: 0s - loss: 0.0402 - acc: 1.0000\n",
            "Epoch 49: val_loss did not improve from 0.04785\n",
            "228/228 [==============================] - 162s 709ms/step - loss: 0.0402 - acc: 1.0000 - val_loss: 0.0504 - val_acc: 1.0000\n",
            "Epoch 50/50\n",
            "228/228 [==============================] - ETA: 0s - loss: 0.0395 - acc: 1.0000\n",
            "Epoch 50: val_loss improved from 0.04785 to 0.04549, saving model to /content/gdrive/My Drive/Thesis/dDTF_images/2classes/best_model_2classes_alpha_Resnet50LSTM_subject_dependent.h5\n",
            "228/228 [==============================] - 164s 721ms/step - loss: 0.0395 - acc: 1.0000 - val_loss: 0.0455 - val_acc: 0.9982\n"
          ]
        },
        {
          "data": {
            "image/png": "[encoded data removed]",
            "text/plain": [
              "<Figure size 640x480 with 1 Axes>"
            ]
          },
          "metadata": {},
          "output_type": "display_data"
        },
        {
          "data": {
            "image/png": "[encoded data removed]",
            "text/plain": [
              "<Figure size 640x480 with 1 Axes>"
            ]
          },
          "metadata": {},
          "output_type": "display_data"
        },
        {
          "name": "stdout",
          "output_type": "stream",
          "text": [
            "10/10 [==============================] - 16s 945ms/step\n"
          ]
        },
        {
          "data": {
            "image/png": "[encoded data removed]",
            "text/plain": [
              "<Figure size 640x480 with 2 Axes>"
            ]
          },
          "metadata": {},
          "output_type": "display_data"
        },
        {
          "name": "stdout",
          "output_type": "stream",
          "text": [
            "fold_1 test_acc: 1.0\n",
            "fold_1 confusion matrix: \n",
            "[[149   0]\n",
            " [  0 168]]\n",
            "\n",
            "Metrics:\n",
            "Sensitivity: 1.00\n",
            "Specificity: 1.00\n",
            "Precision: 1.00\n",
            "FAR: 0.00\n",
            "FRR: 0.00\n"
          ]
        }
      ],
      "source": [
        "# Fit CNN+LSTM model with video data\n",
        "\n",
        "# Initialize empty lists to store the training and validation accuracy\n",
        "# train_acc_list = []\n",
        "# val_acc_list = []\n",
        "# train_loss_list = []\n",
        "# val_loss_list = []\n",
        "fold_count=0\n",
        "hist = {}\n",
        "seed = 7\n",
        "np.random.seed(seed)\n",
        "skf = StratifiedKFold(n_splits=5, shuffle=True, random_state=seed)\n",
        "\n",
        "\n",
        "# Use early stopping to halt the training of the model at the right time based on the validation loss\n",
        "early_stopping = EarlyStopping(monitor='val_loss', patience=10, verbose=1, mode='min')\n",
        "\n",
        "\n",
        "# Define the ModelCheckpoint callback\n",
        "checkpoint = ModelCheckpoint(\n",
        "    model_checkpoint_filepath,\n",
        "    monitor='val_loss',\n",
        "    save_best_only=True,\n",
        "    mode='min',\n",
        "    verbose=1\n",
        ")\n",
        "\n",
        "\n",
        "for train_index, val_index in skf.split(X_train,Y_train):\n",
        "    fold_count = fold_count + 1\n",
        "\n",
        "    x_train, x_val = np.array(X_train)[train_index], np.array(X_train)[val_index]\n",
        "    y_train, y_val = np.array(Y_train)[train_index], np.array(Y_train)[val_index]\n",
        "    y_train = np_utils.to_categorical(y_train)\n",
        "    y_val = np_utils.to_categorical(y_val)\n",
        "\n",
        "    model = create_model()\n",
        "\n",
        "    history = model.fit(\n",
        "        x_train,y_train,\n",
        "        epochs=50,\n",
        "        batch_size=10,  # I got \"ResourceExhaustedError: Graph execution error\" in batch_size=60\n",
        "        validation_data = (x_val,y_val),\n",
        "        shuffle=True,\n",
        "        callbacks=[early_stopping, checkpoint]\n",
        "        )\n",
        "\n",
        "    plot_results(history)\n",
        "\n",
        "    # Load the best model based on the minimum validation loss\n",
        "    best_model = load_model(model_checkpoint_filepath)\n",
        "\n",
        "    test_acc, conf_mat = test_accuracy(best_model, X_test, Y_test) # this model is trained model (after fitting).\n",
        "\n",
        "    print('fold_'+str(fold_count)+' test_acc: '+str(test_acc))\n",
        "    print('fold_'+str(fold_count)+' confusion matrix: ')\n",
        "    print(conf_mat)\n",
        "    print()\n",
        "\n",
        "    hist['fold'+str(fold_count)+'_history'] = history.history\n",
        "    hist['fold'+str(fold_count)+'_results'] = test_acc\n",
        "\n",
        "    # # save lists of val_acc, acc, val_loss and loss for plotting mean_of_all_folds\n",
        "    # train_acc_list.append(history.history['acc'])\n",
        "    # val_acc_list.append(history.history['val_acc'])\n",
        "\n",
        "    # train_loss_list.append(history.history['loss'])\n",
        "    # val_loss_list.append(history.history['val_loss'])\n",
        "\n",
        "    get_model_metrics(conf_mat)\n",
        "\n",
        "    # save history of each fold\n",
        "    with open(history_dir + '_fold_'+str(fold_count), 'wb') as file_pi1:\n",
        "        pickle.dump(hist, file_pi1)\n",
        "\n",
        "    break\n",
        "# plot_mean_of_all_folds(train_acc_list, val_acc_list, train_loss_list, val_loss_list)\n"
      ]
    },
    {
      "cell_type": "code",
      "execution_count": null,
      "metadata": {
        "colab": {
          "background_save": true
        },
        "id": "h018ksthK9qF"
      },
      "outputs": [],
      "source": [
        "# # Load the best model\n",
        "\n",
        "# model = load_model(model_checkpoint_filepath)\n",
        "\n",
        "# X_test = np.array(X_test)\n",
        "# Y_test = np.array(Y_test)\n",
        "\n",
        "# Y_pred = model.predict(X_train)"
      ]
    },
    {
      "cell_type": "code",
      "execution_count": null,
      "metadata": {
        "colab": {
          "base_uri": "https://localhost:8080/"
        },
        "id": "I0ko1PyVDEI8",
        "outputId": "180f52c3-3f85-4197-9e7c-26b4085e050b"
      },
      "outputs": [
        {
          "name": "stdout",
          "output_type": "stream",
          "text": [
            "(330, 1)\n",
            "(330,)\n",
            "(330,)\n"
          ]
        }
      ],
      "source": [
        "# print(np.shape(Y_pred))\n",
        "\n",
        "# Y_pred = np.argmax(Y_pred, axis=1) # axis=1 to get the predicted class for each sample\n",
        "\n",
        "# print(np.shape(Y_pred))\n",
        "# print(np.shape(Y_train))\n"
      ]
    },
    {
      "cell_type": "code",
      "execution_count": null,
      "metadata": {
        "colab": {
          "base_uri": "https://localhost:8080/",
          "height": 750
        },
        "id": "Gw7TrWbTC0hU",
        "outputId": "adfc5a34-6327-461d-ad2a-906cdd0a7b90"
      },
      "outputs": [
        {
          "data": {
            "image/png": "[encoded data removed]",
            "text/plain": [
              "<Figure size 640x480 with 2 Axes>"
            ]
          },
          "metadata": {},
          "output_type": "display_data"
        },
        {
          "name": "stdout",
          "output_type": "stream",
          "text": [
            "test_acc: 0.5\n",
            "confusion matrix: \n",
            "[[165   0]\n",
            " [165   0]]\n",
            "\n",
            "Metrics:\n",
            "Sensitivity: 0.50\n",
            "Specificity: nan\n",
            "Precision: 1.00\n",
            "FAR: nan\n",
            "FRR: 0.50\n"
          ]
        },
        {
          "name": "stderr",
          "output_type": "stream",
          "text": [
            "<ipython-input-17-125798cc66e0>:103: RuntimeWarning: invalid value encountered in long_scalars\n",
            "  specificity = TN / (TN + FP)\n",
            "<ipython-input-17-125798cc66e0>:105: RuntimeWarning: invalid value encountered in long_scalars\n",
            "  FAR = FP / (FP + TN)\n"
          ]
        },
        {
          "data": {
            "text/plain": [
              "(0.5, nan, 1.0, nan, 0.5)"
            ]
          },
          "execution_count": 33,
          "metadata": {},
          "output_type": "execute_result"
        }
      ],
      "source": [
        "# test_acc = accuracy_score(Y_train, Y_pred)\n",
        "# cm = confusion_matrix(Y_test, Y_pred)\n",
        "# plt.figure()\n",
        "# plot_conf_mat(cm)\n",
        "\n",
        "# print('test_acc: ' + str(test_acc))\n",
        "# print('confusion matrix: ')\n",
        "# print(conf_mat)\n",
        "# print()\n",
        "\n",
        "# get_model_metrics(conf_mat)\n"
      ]
    }
  ],
  "metadata": {
    "accelerator": "GPU",
    "colab": {
      "gpuType": "T4",
      "machine_shape": "hm",
      "provenance": []
    },
    "kernelspec": {
      "display_name": "Python 3",
      "name": "python3"
    },
    "language_info": {
      "name": "python"
    }
  },
  "nbformat": 4,
  "nbformat_minor": 0
}
