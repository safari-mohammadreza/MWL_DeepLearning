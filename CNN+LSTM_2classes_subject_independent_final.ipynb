{
  "cells": [
    {
      "cell_type": "markdown",
      "metadata": {
        "id": "vL0seVN-WOiP"
      },
      "source": [
        "Code for MohammadReza Safari's Thesis\n",
        "Dataset: STEW\n",
        "Analyze in 2classes"
      ]
    },
    {
      "cell_type": "markdown",
      "metadata": {
        "id": "QWzslzxEWy4G"
      },
      "source": [
        "# Initializer"
      ]
    },
    {
      "cell_type": "markdown",
      "metadata": {},
      "source": [
        "This code has been run on google colab."
      ]
    },
    {
      "cell_type": "code",
      "execution_count": null,
      "metadata": {
        "colab": {
          "base_uri": "https://localhost:8080/"
        },
        "id": "Sd45MULkQJIw",
        "outputId": "252ab4a9-b2b8-460b-e4f1-b0432e35ef7f"
      },
      "outputs": [
        {
          "name": "stdout",
          "output_type": "stream",
          "text": [
            "Mounted at /content/gdrive\n"
          ]
        }
      ],
      "source": [
        "# 1. mount drive\n",
        "from google.colab import drive\n",
        "drive.mount('/content/gdrive', force_remount=True)"
      ]
    },
    {
      "cell_type": "code",
      "execution_count": null,
      "metadata": {
        "colab": {
          "base_uri": "https://localhost:8080/"
        },
        "id": "LVf95Ru9Rytp",
        "outputId": "7b62b793-6f98-4759-b9e6-200c2864cb80"
      },
      "outputs": [
        {
          "name": "stdout",
          "output_type": "stream",
          "text": [
            "/content/gdrive/My Drive/Thesis/dDTF_images\n"
          ]
        }
      ],
      "source": [
        "# 2. set directory of data\n",
        "%cd /content/gdrive/My Drive/Thesis/dDTF_images\n",
        "base_dir='/content/gdrive/My Drive/Thesis/dDTF_images/2classes'\n",
        "\n",
        "freq_band = 'beta'\n",
        "\n",
        "# Define the checkpoint filepath for best model\n",
        "model_checkpoint_filepath = base_dir + '/best_model_2classes_' + freq_band + '_Resnet50LSTM' + '.h5'\n",
        "history_dir = base_dir + '/hist_Resnet50LSTM_2classes_SGD_' + freq_band\n"
      ]
    },
    {
      "cell_type": "code",
      "execution_count": null,
      "metadata": {
        "id": "TrEa2N_mR0Bw"
      },
      "outputs": [],
      "source": [
        "# 3. import libraries\n",
        "\n",
        "import os\n",
        "import numpy as np\n",
        "\n",
        "import tensorflow as tf\n",
        "\n",
        "from tensorflow.keras.applications.vgg16 import VGG16\n",
        "from tensorflow.keras.applications.resnet import ResNet50\n",
        "from keras.applications.efficientnet import EfficientNetB0\n",
        "\n",
        "from tensorflow.keras import optimizers\n",
        "from tensorflow.keras import models\n",
        "from tensorflow.keras import layers\n",
        "from tensorflow.keras.layers import BatchNormalization\n",
        "from tensorflow.keras import regularizers\n",
        "from tensorflow.keras import backend as K\n",
        "\n",
        "from tensorflow.keras.models import Sequential\n",
        "from tensorflow.keras.layers import Layer,Dense, Dropout, Input, Activation, TimeDistributed, Reshape\n",
        "from tensorflow.keras.layers import  GRU, Bidirectional\n",
        "from tensorflow.keras.layers import  Conv1D, Conv2D, MaxPooling2D, Flatten, BatchNormalization, LSTM, ZeroPadding2D, GlobalAveragePooling2D, SpatialDropout2D, GlobalMaxPool1D,Convolution1D\n",
        "from tensorflow.keras.callbacks import History\n",
        "from tensorflow.keras.models import Model\n",
        "from keras.utils.vis_utils import plot_model\n",
        "from keras.utils import np_utils\n",
        "from collections import Counter\n",
        "import matplotlib.pyplot as plt\n",
        "from sklearn.metrics import confusion_matrix\n",
        "import time\n",
        "import math\n",
        "import random\n",
        "from sklearn.metrics import f1_score, accuracy_score\n",
        "from sklearn.model_selection import StratifiedKFold\n",
        "from sklearn.model_selection import train_test_split\n",
        "from natsort import natsorted\n",
        "from tensorflow.keras.models import save_model, load_model\n",
        "import seaborn as sns\n",
        "from tensorflow.keras.callbacks import EarlyStopping, ModelCheckpoint\n",
        "\n",
        "import cv2\n",
        "import pickle\n",
        "from PIL import Image"
      ]
    },
    {
      "cell_type": "code",
      "execution_count": null,
      "metadata": {
        "id": "PQP-QqwAR1cw"
      },
      "outputs": [],
      "source": [
        "# 4. define some methods\n",
        "\n",
        "def smooth_curve(points, factor=0.2):\n",
        "  smoothed_points = []\n",
        "  for point in points:\n",
        "    if smoothed_points:\n",
        "      previous = smoothed_points[-1]\n",
        "      smoothed_points.append(previous * factor + point * (1 - factor))\n",
        "    else:\n",
        "      smoothed_points.append(point)\n",
        "  return smoothed_points\n",
        "\n",
        "def plot_results(history):\n",
        "  acc = history.history['acc']\n",
        "  val_acc = history.history['val_acc']\n",
        "  loss = history.history['loss']\n",
        "  val_loss = history.history['val_loss']\n",
        "  epochs = range(1, len(acc) + 1)\n",
        "  %matplotlib inline\n",
        "  plt.plot(epochs, smooth_curve(acc), 'r', alpha = 0.6, label='Training acc')\n",
        "  plt.plot(epochs, smooth_curve(val_acc), 'b', alpha = 0.6, label='Validation acc')\n",
        "  plt.title('Training and validation accuracy')\n",
        "  plt.legend()\n",
        "  plt.figure()\n",
        "  plt.plot(epochs, smooth_curve(loss), 'r', alpha = 0.6, label='Training loss')\n",
        "  plt.plot(epochs, smooth_curve(val_loss), 'b', alpha = 0.6, label='Validation loss')\n",
        "  plt.title('Training and validation loss')\n",
        "  plt.legend()\n",
        "  plt.show()\n",
        "\n",
        "\n",
        "# def plot_mean_of_all_folds(train_acc_list, val_acc_list, train_loss_list, val_loss_list):\n",
        "#   # Plot the mean of training and validation accuracy across all folds\n",
        "#   train_acc_mean = np.mean(train_acc_list, axis=0)\n",
        "#   val_acc_mean = np.mean(val_acc_list, axis=0)\n",
        "#   train_loss_mean = np.mean(train_loss_list, axis=0)\n",
        "#   val_loss_mean = np.mean(val_loss_list, axis=0)\n",
        "#   %matplotlib inline\n",
        "#   plt.plot(train_acc_mean, 'r', alpha = 0.6, label='Training Accuracy')\n",
        "#   plt.plot(val_acc_mean, 'b', alpha = 0.6, label='Validation Accuracy')\n",
        "#   plt.title('Training and validation accuracy')\n",
        "#   plt.legend()\n",
        "#   plt.figure()\n",
        "#   plt.plot(train_loss_mean, 'r', alpha = 0.6, label='Training loss')\n",
        "#   plt.plot(val_loss_mean, 'b', alpha = 0.6, label='Validation loss')\n",
        "#   plt.title('Training and validation accuracy')\n",
        "#   plt.legend()\n",
        "#   plt.show()\n",
        "\n",
        "\n",
        "# def calculate_test_accuracy(model, X_test, Y_test):\n",
        "#   fold_results = {}\n",
        "#   Y_test = np_utils.to_categorical(Y_test)\n",
        "#   predicted_probas = model.predict(np.array(X_test),steps = len(X_test))\n",
        "#   fold_results['predicted_probas'] = predicted_probas\n",
        "#   maxindex = predicted_probas[i,:].argmax() ##UnboundLocalError: local variable 'i' referenced before assignment\n",
        "#   binary_prediction=[]\n",
        "#   binary_prediction0=[]\n",
        "#   for i in range(len(predicted_probas)):\n",
        "#      binary_prediction0 = 1 if predicted_probas[i,:].argmax()>=0.5 else 0\n",
        "#     #  binary_prediction0 = np.round(predicted_probas)\n",
        "#      binary_prediction.append(binary_prediction0)\n",
        "#   fold_results['binary_prediction'] = binary_prediction\n",
        "#   conf_mat = confusion_matrix(binary_prediction, Y_test)\n",
        "#   fold_results['confusion_matrix'] = conf_mat\n",
        "#   acc = np.sum(conf_mat.diagonal()) / np.sum(conf_mat)\n",
        "#   fold_results['test_accuracy'] = acc\n",
        "#   print('Overall accuracy: {:.2f} %'.format(acc*100))\n",
        "#   return fold_results\n",
        "\n",
        "def test_accuracy(model, X_test, Y_test):\n",
        "  X_test = np.array(X_test)\n",
        "  Y_test = np.array(Y_test)\n",
        "\n",
        "  Y_test = np_utils.to_categorical(Y_test)\n",
        "  Y_pred = model.predict(X_test)\n",
        "  Y_pred = np.argmax(Y_pred, axis=1)\n",
        "  Y_test = np.argmax(Y_test, axis=1)\n",
        "  test_acc = accuracy_score(Y_pred,Y_test)\n",
        "  cm = confusion_matrix(Y_test, Y_pred)\n",
        "  plot_conf_mat(cm)\n",
        "\n",
        "  return test_acc, cm\n",
        "\n",
        "def plot_conf_mat(cm):\n",
        "  # Normalize the confusion matrix\n",
        "  cm_norm = cm.astype('float') / cm.sum(axis=1)[:, np.newaxis]\n",
        "  conf_labels = ['low', 'high']\n",
        "  sns.heatmap(cm_norm, annot=True, cmap='Blues', fmt='.2%',xticklabels=conf_labels, yticklabels=conf_labels)\n",
        "  plt.xlabel('Predicted')\n",
        "  plt.ylabel('True')\n",
        "  plt.show()\n",
        "\n",
        "\n",
        "def get_model_metrics(cm):\n",
        "  TP = cm[0, 0]\n",
        "  FP = cm[0, 1]\n",
        "  FN = cm[1, 0]\n",
        "  TN = cm[1, 1]\n",
        "  sensitivity = TP / (TP + FN)\n",
        "  specificity = TN / (TN + FP)\n",
        "  precision = TP / (TP + FP)\n",
        "  FAR = FP / (FP + TN)\n",
        "  FRR = FN / (FN + TP)\n",
        "  print(\"Metrics:\")\n",
        "  print(f\"Sensitivity: {sensitivity:.2f}\")\n",
        "  print(f\"Specificity: {specificity:.2f}\")\n",
        "  print(f\"Precision: {precision:.2f}\")\n",
        "  print(f\"FAR: {FAR:.2f}\")\n",
        "  print(f\"FRR: {FRR:.2f}\")\n",
        "\n",
        "  return sensitivity, specificity, precision, FAR, FRR\n",
        "\n",
        "\n",
        "\n",
        "def create_model():\n",
        "  conv_base = ResNet50(weights='imagenet',include_top=False,input_shape=(224, 224, 3)) # include_top=false because we don't want fullyconnected layers.\n",
        "  # conv_base = VGG16(weights='imagenet',include_top=False,input_shape=(224, 224, 3))\n",
        "  # conv_base = EfficientNetB0(weights='imagenet',include_top=False,input_shape=(224, 224, 3))\n",
        "\n",
        "  conv_base.trainable = True\n",
        "\n",
        "  model = models.Sequential()\n",
        "  model.add(conv_base)\n",
        "  model.add(layers.Flatten()) # convert output in a array (x,1). voroodi ro migire va saf mikone.\n",
        "  model.add(layers.Dense(32)) # voroodi ro map mikne roye 32 neuron.\n",
        "\n",
        "  cnn = models.Model(model.input, model.output) # samte rast daqiqn barabar ba 'model' yani mitonest injori bashe: cnn = model. in dastoore models.Model vase vaqtai khobe ke bekhay be laye hat name bedi va az vasataye model khorooji bgiri daron soorat jaye model.output mizari model.[name]\n",
        "  # dim of output: [number of input, 32]\n",
        "\n",
        "  seq_input = Input(shape=(5,224,224,3)) # yani 5 ta akse 224*224*3 ro gozashtim kenare ham va vorodi midim.\n",
        "\n",
        "  encoded_sequence = TimeDistributed(cnn)(seq_input) # TimeDistributed miad voroodi ro (5,224,224,3) migire mikne 5 ta (224,224,3) va mide be cnn va result ro dar nahayat concat mikne yani mishe [5, 32] ke in 32 khoroojie modele cnn'e.\n",
        "  encoded_sequence = Bidirectional(LSTM(32, return_sequences=True))(encoded_sequence) # 32 ta unit dare va chon bidirectionale pas dotarafast pas mishe 64 ta khorooji. return_sequences=true yani kole sequence haye voroodi ro bargardoon pas khorooji mishe [5, 64]\n",
        "  # encoded_sequence = Dropout(rate=0.1)(encoded_sequence)\n",
        "  encoded_sequence = Bidirectional(LSTM(32, return_sequences=False))(encoded_sequence) # vaqti return_sequences=false mishe yani faqat akharin unit ro mide pas khorooji mishe: [64]\n",
        "\n",
        "  out = Dense(2, activation=\"softmax\")(encoded_sequence)\n",
        "  #out = Convolution1D(1, kernel_size=1, activation=\"sigmoid\", padding=\"same\")(encoded_sequence)\n",
        "  # out = Dense(1, activation=\"sigmoid\")(encoded_sequence)\n",
        "\n",
        "  cnn_lstm = models.Model(seq_input, out)\n",
        "  cnn_lstm.compile(loss='categorical_crossentropy', optimizer=optimizers.SGD(learning_rate=1e-4),metrics=['acc'])\n",
        "  # cnn_lstm.compile(loss='categorical_crossentropy', optimizer=optimizers.Adam(learning_rate=1e-4),metrics=['acc'])\n",
        "  # cnn_lstm.compile(loss='binary_crossentropy', optimizer=optimizers.SGD(learning_rate=1e-4),metrics=['acc'])\n",
        "\n",
        "  if fold_count == 1:\n",
        "    cnn_lstm.summary()\n",
        "  return cnn_lstm\n"
      ]
    },
    {
      "cell_type": "markdown",
      "metadata": {
        "id": "a-lrsCPwR424"
      },
      "source": [
        "# Prepare Data"
      ]
    },
    {
      "cell_type": "code",
      "execution_count": null,
      "metadata": {
        "colab": {
          "base_uri": "https://localhost:8080/"
        },
        "id": "rNNgPMXmR3ng",
        "outputId": "de8e43b1-43b1-465e-b90a-694e1e212c25"
      },
      "outputs": [
        {
          "name": "stdout",
          "output_type": "stream",
          "text": [
            "(1776,)\n",
            "(1776,)\n"
          ]
        }
      ],
      "source": [
        "# 5. load images data from drive\n",
        "# In stew dataset each data has 2.5min or 150sec eeg data and we create dDTF images-\n",
        "# with windowing by size=6sec and step=4sec so 150=6+(n-1)4 --> n=37 images per eeg data\n",
        "\n",
        "# hi_dir = base_dir + '/' + freq_band + '/hi'\n",
        "# hi_data = os.listdir(hi_dir)\n",
        "# hi_data = natsorted(hi_data)\n",
        "# print(np.array(hi_data).shape)\n",
        "\n",
        "# lo_dir = base_dir + '/' + freq_band + '/lo'\n",
        "# lo_data = os.listdir(lo_dir)\n",
        "# lo_data = natsorted(lo_data)\n",
        "# print(np.array(lo_data).shape)\n"
      ]
    },
    {
      "cell_type": "code",
      "execution_count": null,
      "metadata": {
        "colab": {
          "base_uri": "https://localhost:8080/"
        },
        "id": "ou7gqyUJR8uQ",
        "outputId": "c78c1e79-37a6-4f12-88b8-1b8dcb936f7d"
      },
      "outputs": [
        {
          "name": "stdout",
          "output_type": "stream",
          "text": [
            "(1776,)\n",
            "(1776,)\n"
          ]
        }
      ],
      "source": [
        "# 6. Resize images. this cell may take some time\n",
        "\n",
        "# X_q1 = []\n",
        "# for img in lo_data:\n",
        "#     with Image.open(lo_dir+\"/\"+img) as im:\n",
        "#       resized_im = im.resize((224,224))\n",
        "#       X_q1.append(resized_im)\n",
        "# print(np.shape(X_q1))\n",
        "\n",
        "# X_q2 = []\n",
        "# for img in hi_data:\n",
        "#     with Image.open(hi_dir+\"/\"+img) as im:\n",
        "#       resized_im = im.resize((224,224))\n",
        "#       X_q2.append(resized_im)\n",
        "# print(np.shape(X_q2))"
      ]
    },
    {
      "cell_type": "code",
      "execution_count": null,
      "metadata": {
        "id": "SXmoBWL5R_Rg"
      },
      "outputs": [],
      "source": [
        "# 7. create images_data that is a collection from all classes\n",
        "\n",
        "# Images_data = X_q1 + X_q2 # [lo,hi]\n"
      ]
    },
    {
      "cell_type": "code",
      "execution_count": null,
      "metadata": {
        "id": "-reJGlDkSAkX"
      },
      "outputs": [],
      "source": [
        "# 8. dump images_data as Images_data.\n",
        "\n",
        "# with open(base_dir+'/Images_data_2classes_' + freq_band , 'wb') as file_pi1:\n",
        "#     pickle.dump(Images_data, file_pi1)\n"
      ]
    },
    {
      "cell_type": "code",
      "execution_count": null,
      "metadata": {
        "colab": {
          "base_uri": "https://localhost:8080/"
        },
        "id": "W1M2ofwESCDH",
        "outputId": "12aad662-87f3-443d-b82d-274294f284e2"
      },
      "outputs": [
        {
          "name": "stderr",
          "output_type": "stream",
          "text": [
            "/usr/local/lib/python3.10/dist-packages/numpy/core/fromnumeric.py:2009: FutureWarning: The input object of type 'Image' is an array-like implementing one of the corresponding protocols (`__array__`, `__array_interface__` or `__array_struct__`); but not a sequence (or 0-D). In the future, this object will be coerced as if it was first converted using `np.array(obj)`. To retain the old behaviour, you have to either modify the type 'Image', or assign to an empty array created with `np.empty(correct_shape, dtype=object)`.\n",
            "  result = asarray(a).shape\n"
          ]
        },
        {
          "name": "stdout",
          "output_type": "stream",
          "text": [
            "(3552,)\n"
          ]
        },
        {
          "name": "stderr",
          "output_type": "stream",
          "text": [
            "/usr/local/lib/python3.10/dist-packages/numpy/core/fromnumeric.py:2009: VisibleDeprecationWarning: Creating an ndarray from ragged nested sequences (which is a list-or-tuple of lists-or-tuples-or ndarrays with different lengths or shapes) is deprecated. If you meant to do this, you must specify 'dtype=object' when creating the ndarray.\n",
            "  result = asarray(a).shape\n"
          ]
        }
      ],
      "source": [
        "# 9. load the images_data from drive if you don't wanna run from first cell.\n",
        "\n",
        "with open(base_dir+'/Images_data_2classes_' + freq_band , 'rb') as f:\n",
        "    Images_data = pickle.load(f)\n",
        "\n",
        "print(np.shape(Images_data))\n"
      ]
    },
    {
      "cell_type": "code",
      "execution_count": null,
      "metadata": {
        "colab": {
          "base_uri": "https://localhost:8080/"
        },
        "id": "vKt3C2m7YVJZ",
        "outputId": "1913fdda-5260-4bcb-f912-daad61594a66"
      },
      "outputs": [
        {
          "name": "stdout",
          "output_type": "stream",
          "text": [
            "<class 'numpy.ndarray'>\n",
            "(224, 224, 3)\n",
            "(3552, 224, 224, 3)\n"
          ]
        }
      ],
      "source": [
        "Images_data = [np.asarray(img) for img in Images_data]\n",
        "\n",
        "print(type(Images_data[0]));\n",
        "print(np.shape(Images_data[0]))\n",
        "print(np.shape(Images_data)) # (3552, 224, 224, 3)\n"
      ]
    },
    {
      "cell_type": "markdown",
      "metadata": {
        "id": "gdpuMiP8SEpC"
      },
      "source": [
        "Prepare the video samples"
      ]
    },
    {
      "cell_type": "code",
      "execution_count": null,
      "metadata": {
        "colab": {
          "base_uri": "https://localhost:8080/"
        },
        "id": "m0LTJcftSD7P",
        "outputId": "1ddcd0ed-7867-43dc-fa54-e41629b78e72"
      },
      "outputs": [
        {
          "name": "stdout",
          "output_type": "stream",
          "text": [
            "(224, 224, 3)\n",
            "(1776, 224, 224, 3)\n",
            "(1776, 224, 224, 3)\n"
          ]
        }
      ],
      "source": [
        "# 11. If you start running from 9th cell you need run this cell to define X_q1 and X_q2\n",
        "\n",
        "X_q1 = Images_data[:37*48]\n",
        "X_q2 = Images_data[37*48:]\n",
        "\n",
        "print(np.shape(X_q1[0]))\n",
        "print(np.shape(X_q1)) # (1776, 224, 224, 3)\n",
        "print(np.shape(X_q2))"
      ]
    },
    {
      "cell_type": "code",
      "execution_count": null,
      "metadata": {
        "colab": {
          "base_uri": "https://localhost:8080/"
        },
        "id": "DSktqt2FtU89",
        "outputId": "6874be96-ac4d-4caf-e2a5-5eb118c3dbf1"
      },
      "outputs": [
        {
          "name": "stdout",
          "output_type": "stream",
          "text": [
            "(1591, 224, 224, 3)\n",
            "(1591, 224, 224, 3)\n",
            "(185, 224, 224, 3)\n",
            "(185, 224, 224, 3)\n"
          ]
        }
      ],
      "source": [
        "# separate 5 sub's data for test (sub: 1,2,6,7,8)\n",
        "\n",
        "X_q1_test_sub1 = X_q1[:37]\n",
        "X_q2_test_sub1 = X_q2[:37]\n",
        "\n",
        "X_q1_test_sub2 = X_q1[37:37*2]\n",
        "X_q2_test_sub2 = X_q2[37:37*2]\n",
        "\n",
        "X_q1_test_sub6 = X_q1[37*5:37*6]\n",
        "X_q2_test_sub6 = X_q2[37*5:37*6]\n",
        "\n",
        "X_q1_test_sub7 = X_q1[37*6:37*7]\n",
        "X_q2_test_sub7 = X_q2[37*6:37*7]\n",
        "\n",
        "X_q1_test_sub8 = X_q1[37*7:37*8]\n",
        "X_q2_test_sub8 = X_q2[37*7:37*8]\n",
        "\n",
        "X_q1_test = X_q1_test_sub1 + X_q1_test_sub2 + X_q1_test_sub6 + X_q1_test_sub7 + X_q1_test_sub8\n",
        "X_q2_test = X_q2_test_sub1 + X_q2_test_sub2 + X_q2_test_sub6 + X_q2_test_sub7 + X_q2_test_sub8\n",
        "\n",
        "\n",
        "X_q1 = X_q1[37*2:37*5] + X_q1[37*8:]\n",
        "X_q2 = X_q2[37*2:37*5] + X_q2[37*8:]\n",
        "\n",
        "\n",
        "print(np.shape(X_q1)) # (1591, 224, 224, 3)\n",
        "print(np.shape(X_q2))\n",
        "print(np.shape(X_q1_test)) # (185, 224, 224, 3)\n",
        "print(np.shape(X_q2_test))"
      ]
    },
    {
      "cell_type": "code",
      "execution_count": null,
      "metadata": {
        "colab": {
          "base_uri": "https://localhost:8080/"
        },
        "id": "ACMebGqwSJcq",
        "outputId": "db6ac406-8356-434f-c197-557cea09cced"
      },
      "outputs": [
        {
          "name": "stdout",
          "output_type": "stream",
          "text": [
            "(1419, 5, 224, 224, 3)\n",
            "33\n",
            "(1419, 5, 224, 224, 3)\n",
            "33\n",
            "(165, 5, 224, 224, 3)\n",
            "33\n",
            "(165, 5, 224, 224, 3)\n",
            "33\n"
          ]
        }
      ],
      "source": [
        "# 12. create video data of classes\n",
        "\n",
        "video_q1 = []\n",
        "subj = 0\n",
        "stride = 1\n",
        "init_frame = 0\n",
        "frame_length = 5 # 5 images per video\n",
        "for subj in range(43): # number of subjects in class = 'lo'\n",
        "  for img in range(37): #stride 1/number of images of each subject / / 43 * (37-5+1) = 1419 total video samples per freq. band (ie. gama)\n",
        "       if img+frame_length>37:\n",
        "          break\n",
        "       tmp_video = X_q1[subj*37+img:subj*37+img+frame_length]\n",
        "       # first 0-5 second 1-6 third 2-7 last 32-37\n",
        "       # 33 movies for each patient. 33*43 movie in total.\n",
        "       video_q1.append(tmp_video)\n",
        "\n",
        "print(np.shape(video_q1)) # The result will be (1419, 5, 224, 224, 3) that is 1419 videos that each of them consist of 5 frames of (224,224,3) images\n",
        "print(img)\n",
        "\n",
        "\n",
        "video_q2 = []\n",
        "subj = 0\n",
        "stride = 1\n",
        "init_frame = 0\n",
        "frame_length = 5\n",
        "for subj in range(43): # number of subjects\n",
        "  for img in range(37): #stride 1/number of images of each subject\n",
        "       if img+frame_length>37:\n",
        "          break\n",
        "       tmp_video = X_q2[subj*37+img:subj*37+img+frame_length]\n",
        "       video_q2.append(tmp_video)\n",
        "\n",
        "print(np.shape(video_q2)) # (1419, 5, 224, 224, 3)\n",
        "print(img)\n",
        "\n",
        "\n",
        "\n",
        "video_q1_test = []\n",
        "subj = 0\n",
        "stride = 1\n",
        "init_frame = 0\n",
        "frame_length = 5 # 5 images per video\n",
        "for subj in range(5): # number of subjects in class = 'lo'\n",
        "  for img in range(37): #stride 1/number of images of each subject / / 5 * (37-5+1) = 165 total video samples per freq. band (ie. gama)\n",
        "       if img+frame_length>37:\n",
        "          break\n",
        "       tmp_video = X_q1_test[subj*37+img:subj*37+img+frame_length]\n",
        "       # first 0-5 second 1-6 third 2-7 last 32-37\n",
        "       # 33 movies for each patient. 33*5 movie in total.\n",
        "       video_q1_test.append(tmp_video)\n",
        "\n",
        "print(np.shape(video_q1_test)) # The result will be (165, 5, 224, 224, 3) that is 165 videos that each of them consist of 5 frames of (224,224,3) images\n",
        "print(img)\n",
        "\n",
        "\n",
        "video_q2_test = []\n",
        "subj = 0\n",
        "stride = 1\n",
        "init_frame = 0\n",
        "frame_length = 5\n",
        "for subj in range(5): # number of subjects\n",
        "  for img in range(37): #stride 1/number of images of each subject\n",
        "       if img+frame_length>37:\n",
        "          break\n",
        "       tmp_video = X_q2_test[subj*37+img:subj*37+img+frame_length]\n",
        "       video_q2_test.append(tmp_video)\n",
        "\n",
        "print(np.shape(video_q2_test)) # (165, 5, 224, 224, 3)\n",
        "print(img)\n"
      ]
    },
    {
      "cell_type": "code",
      "execution_count": null,
      "metadata": {
        "colab": {
          "base_uri": "https://localhost:8080/"
        },
        "id": "xkRDl4l6iLOq",
        "outputId": "d5880595-9fc0-4c6f-aaee-1ec1f7309e32"
      },
      "outputs": [
        {
          "name": "stdout",
          "output_type": "stream",
          "text": [
            "(33, 5, 224, 224, 3)\n",
            "33\n",
            "(33, 5, 224, 224, 3)\n",
            "33\n",
            "(33, 5, 224, 224, 3)\n",
            "33\n",
            "(33, 5, 224, 224, 3)\n",
            "33\n",
            "(33, 5, 224, 224, 3)\n",
            "33\n",
            "(33, 5, 224, 224, 3)\n",
            "33\n",
            "(33, 5, 224, 224, 3)\n",
            "33\n",
            "(33, 5, 224, 224, 3)\n",
            "33\n",
            "(33, 5, 224, 224, 3)\n",
            "33\n",
            "(33, 5, 224, 224, 3)\n",
            "33\n"
          ]
        }
      ],
      "source": [
        "#/////////////////////////PerSub//////////////////////////////\n",
        "\n",
        "video_q1_test_sub1 = []\n",
        "subj = 0\n",
        "stride = 1\n",
        "init_frame = 0\n",
        "frame_length = 5 # 5 images per video\n",
        "for subj in range(1): # number of subjects in class = 'lo'\n",
        "  for img in range(37): #stride 1/number of images of each subject / / 5 * (37-5+1) = 165 total video samples per freq. band (ie. gama)\n",
        "       if img+frame_length>37:\n",
        "          break\n",
        "       tmp_video = X_q1_test_sub1[subj*37+img:subj*37+img+frame_length]\n",
        "       # first 0-5 second 1-6 third 2-7 last 32-37\n",
        "       # 33 movies for each patient. 33*5 movie in total.\n",
        "       video_q1_test_sub1.append(tmp_video)\n",
        "\n",
        "print(np.shape(video_q1_test_sub1)) # The result will be (165, 5, 224, 224, 3) that is 165 videos that each of them consist of 5 frames of (224,224,3) images\n",
        "print(img)\n",
        "\n",
        "\n",
        "video_q2_test_sub1 = []\n",
        "subj = 0\n",
        "stride = 1\n",
        "init_frame = 0\n",
        "frame_length = 5\n",
        "for subj in range(1): # number of subjects\n",
        "  for img in range(37): #stride 1/number of images of each subject\n",
        "       if img+frame_length>37:\n",
        "          break\n",
        "       tmp_video = X_q2_test_sub1[subj*37+img:subj*37+img+frame_length]\n",
        "       video_q2_test_sub1.append(tmp_video)\n",
        "\n",
        "print(np.shape(video_q2_test_sub1)) # (165, 5, 224, 224, 3)\n",
        "print(img)\n",
        "#///////////////////////////////////////\n",
        "video_q1_test_sub2 = []\n",
        "subj = 0\n",
        "stride = 1\n",
        "init_frame = 0\n",
        "frame_length = 5 # 5 images per video\n",
        "for subj in range(1): # number of subjects in class = 'lo'\n",
        "  for img in range(37): #stride 1/number of images of each subject / / 5 * (37-5+1) = 165 total video samples per freq. band (ie. gama)\n",
        "       if img+frame_length>37:\n",
        "          break\n",
        "       tmp_video = X_q1_test_sub2[subj*37+img:subj*37+img+frame_length]\n",
        "       # first 0-5 second 1-6 third 2-7 last 32-37\n",
        "       # 33 movies for each patient. 33*5 movie in total.\n",
        "       video_q1_test_sub2.append(tmp_video)\n",
        "\n",
        "print(np.shape(video_q1_test_sub2)) # The result will be (165, 5, 224, 224, 3) that is 165 videos that each of them consist of 5 frames of (224,224,3) images\n",
        "print(img)\n",
        "\n",
        "\n",
        "video_q2_test_sub2 = []\n",
        "subj = 0\n",
        "stride = 1\n",
        "init_frame = 0\n",
        "frame_length = 5\n",
        "for subj in range(1): # number of subjects\n",
        "  for img in range(37): #stride 1/number of images of each subject\n",
        "       if img+frame_length>37:\n",
        "          break\n",
        "       tmp_video = X_q2_test_sub2[subj*37+img:subj*37+img+frame_length]\n",
        "       video_q2_test_sub2.append(tmp_video)\n",
        "\n",
        "print(np.shape(video_q2_test_sub2)) # (165, 5, 224, 224, 3)\n",
        "print(img)\n",
        "#///////////////////////////////////////\n",
        "video_q1_test_sub6 = []\n",
        "subj = 0\n",
        "stride = 1\n",
        "init_frame = 0\n",
        "frame_length = 5 # 5 images per video\n",
        "for subj in range(1): # number of subjects in class = 'lo'\n",
        "  for img in range(37): #stride 1/number of images of each subject / / 5 * (37-5+1) = 165 total video samples per freq. band (ie. gama)\n",
        "       if img+frame_length>37:\n",
        "          break\n",
        "       tmp_video = X_q1_test_sub6[subj*37+img:subj*37+img+frame_length]\n",
        "       # first 0-5 second 1-6 third 2-7 last 32-37\n",
        "       # 33 movies for each patient. 33*5 movie in total.\n",
        "       video_q1_test_sub6.append(tmp_video)\n",
        "\n",
        "print(np.shape(video_q1_test_sub6)) # The result will be (165, 5, 224, 224, 3) that is 165 videos that each of them consist of 5 frames of (224,224,3) images\n",
        "print(img)\n",
        "\n",
        "\n",
        "video_q2_test_sub6 = []\n",
        "subj = 0\n",
        "stride = 1\n",
        "init_frame = 0\n",
        "frame_length = 5\n",
        "for subj in range(1): # number of subjects\n",
        "  for img in range(37): #stride 1/number of images of each subject\n",
        "       if img+frame_length>37:\n",
        "          break\n",
        "       tmp_video = X_q2_test_sub6[subj*37+img:subj*37+img+frame_length]\n",
        "       video_q2_test_sub6.append(tmp_video)\n",
        "\n",
        "print(np.shape(video_q2_test_sub6)) # (165, 5, 224, 224, 3)\n",
        "print(img)\n",
        "#///////////////////////////////////////\n",
        "video_q1_test_sub7 = []\n",
        "subj = 0\n",
        "stride = 1\n",
        "init_frame = 0\n",
        "frame_length = 5 # 5 images per video\n",
        "for subj in range(1): # number of subjects in class = 'lo'\n",
        "  for img in range(37): #stride 1/number of images of each subject / / 5 * (37-5+1) = 165 total video samples per freq. band (ie. gama)\n",
        "       if img+frame_length>37:\n",
        "          break\n",
        "       tmp_video = X_q1_test_sub7[subj*37+img:subj*37+img+frame_length]\n",
        "       # first 0-5 second 1-6 third 2-7 last 32-37\n",
        "       # 33 movies for each patient. 33*5 movie in total.\n",
        "       video_q1_test_sub7.append(tmp_video)\n",
        "\n",
        "print(np.shape(video_q1_test_sub7)) # The result will be (165, 5, 224, 224, 3) that is 165 videos that each of them consist of 5 frames of (224,224,3) images\n",
        "print(img)\n",
        "\n",
        "\n",
        "video_q2_test_sub7 = []\n",
        "subj = 0\n",
        "stride = 1\n",
        "init_frame = 0\n",
        "frame_length = 5\n",
        "for subj in range(1): # number of subjects\n",
        "  for img in range(37): #stride 1/number of images of each subject\n",
        "       if img+frame_length>37:\n",
        "          break\n",
        "       tmp_video = X_q2_test_sub7[subj*37+img:subj*37+img+frame_length]\n",
        "       video_q2_test_sub7.append(tmp_video)\n",
        "\n",
        "print(np.shape(video_q2_test_sub7)) # (165, 5, 224, 224, 3)\n",
        "print(img)\n",
        "#///////////////////////////////////////\n",
        "video_q1_test_sub8 = []\n",
        "subj = 0\n",
        "stride = 1\n",
        "init_frame = 0\n",
        "frame_length = 5 # 5 images per video\n",
        "for subj in range(1): # number of subjects in class = 'lo'\n",
        "  for img in range(37): #stride 1/number of images of each subject / / 5 * (37-5+1) = 165 total video samples per freq. band (ie. gama)\n",
        "       if img+frame_length>37:\n",
        "          break\n",
        "       tmp_video = X_q1_test_sub8[subj*37+img:subj*37+img+frame_length]\n",
        "       # first 0-5 second 1-6 third 2-7 last 32-37\n",
        "       # 33 movies for each patient. 33*5 movie in total.\n",
        "       video_q1_test_sub8.append(tmp_video)\n",
        "\n",
        "print(np.shape(video_q1_test_sub8)) # The result will be (165, 5, 224, 224, 3) that is 165 videos that each of them consist of 5 frames of (224,224,3) images\n",
        "print(img)\n",
        "\n",
        "\n",
        "video_q2_test_sub8 = []\n",
        "subj = 0\n",
        "stride = 1\n",
        "init_frame = 0\n",
        "frame_length = 5\n",
        "for subj in range(1): # number of subjects\n",
        "  for img in range(37): #stride 1/number of images of each subject\n",
        "       if img+frame_length>37:\n",
        "          break\n",
        "       tmp_video = X_q2_test_sub8[subj*37+img:subj*37+img+frame_length]\n",
        "       video_q2_test_sub8.append(tmp_video)\n",
        "\n",
        "print(np.shape(video_q2_test_sub8)) # (165, 5, 224, 224, 3)\n",
        "print(img)\n"
      ]
    },
    {
      "cell_type": "code",
      "execution_count": null,
      "metadata": {
        "colab": {
          "base_uri": "https://localhost:8080/"
        },
        "id": "8rOChAfmjfQT",
        "outputId": "698b7167-3dc7-4208-9bb8-74d77794b8d0"
      },
      "outputs": [
        {
          "name": "stdout",
          "output_type": "stream",
          "text": [
            "(66, 5, 224, 224, 3)\n",
            "(66, 5, 224, 224, 3)\n",
            "(66, 5, 224, 224, 3)\n",
            "(66, 5, 224, 224, 3)\n",
            "(66, 5, 224, 224, 3)\n"
          ]
        }
      ],
      "source": [
        "#/////////////////////////PerSub//////////////////////////////\n",
        "video_data_test_sub1 = video_q1_test_sub1 + video_q2_test_sub1\n",
        "print(np.shape(video_data_test_sub1)) # (330, 5, 224, 224, 3)\n",
        "#/////////////////////////\n",
        "video_data_test_sub2 = video_q1_test_sub2 + video_q2_test_sub2\n",
        "print(np.shape(video_data_test_sub2)) # (330, 5, 224, 224, 3)\n",
        "#/////////////////////////\n",
        "video_data_test_sub6 = video_q1_test_sub6 + video_q2_test_sub6\n",
        "print(np.shape(video_data_test_sub6)) # (330, 5, 224, 224, 3)\n",
        "#/////////////////////////\n",
        "video_data_test_sub7 = video_q1_test_sub7 + video_q2_test_sub7\n",
        "print(np.shape(video_data_test_sub7)) # (330, 5, 224, 224, 3)\n",
        "#/////////////////////////\n",
        "video_data_test_sub8 = video_q1_test_sub8 + video_q2_test_sub8\n",
        "print(np.shape(video_data_test_sub8)) # (330, 5, 224, 224, 3)"
      ]
    },
    {
      "cell_type": "code",
      "execution_count": null,
      "metadata": {
        "colab": {
          "base_uri": "https://localhost:8080/"
        },
        "id": "BDvZg_PtSK1Z",
        "outputId": "7caa8947-fc49-4dcc-ce2d-40ddf9cee668"
      },
      "outputs": [
        {
          "name": "stdout",
          "output_type": "stream",
          "text": [
            "(2838, 5, 224, 224, 3)\n",
            "(330, 5, 224, 224, 3)\n"
          ]
        }
      ],
      "source": [
        "# 14. create video_data that is a collection of all classes and then clear memory\n",
        "\n",
        "video_data = video_q1 + video_q2\n",
        "print(np.shape(video_data)) # (2838, 5, 224, 224, 3)\n",
        "\n",
        "video_data_test = video_q1_test + video_q2_test\n",
        "print(np.shape(video_data_test)) # (330, 5, 224, 224, 3)"
      ]
    },
    {
      "cell_type": "code",
      "execution_count": null,
      "metadata": {
        "id": "Q_ZU1UCuSOgJ"
      },
      "outputs": [],
      "source": [
        "# 15. dump video_classes as video_data\n",
        "\n",
        "# with open(base_dir+'/video_data_2classes_' + freq_band + '_train', 'wb') as file_pi1:\n",
        "#     pickle.dump(video_data, file_pi1)\n",
        "\n",
        "# with open(base_dir+'/video_data_2classes_' + freq_band + '_test', 'wb') as file_pi1:\n",
        "#     pickle.dump(video_data_test, file_pi1)"
      ]
    },
    {
      "cell_type": "code",
      "execution_count": null,
      "metadata": {
        "colab": {
          "base_uri": "https://localhost:8080/"
        },
        "id": "2aJgk3sKSQNn",
        "outputId": "9b4e0240-b8e7-44b9-b913-3ef5a35daa5c"
      },
      "outputs": [
        {
          "name": "stdout",
          "output_type": "stream",
          "text": [
            "(2838, 5, 224, 224, 3)\n",
            "(330, 5, 224, 224, 3)\n"
          ]
        }
      ],
      "source": [
        "# 16. load video_classes from drive\n",
        "\n",
        "# with open(base_dir+'/video_data_2classes_' + freq_band + '_train', 'rb') as f:\n",
        "#     video_data = pickle.load(f)\n",
        "\n",
        "# print(np.shape(video_data)) # (2838, 5, 224, 224, 3)\n",
        "\n",
        "# with open(base_dir+'/video_data_2classes_' + freq_band + '_test', 'rb') as f:\n",
        "#     video_data_test = pickle.load(f)\n",
        "\n",
        "# print(np.shape(video_data_test)) # (330, 5, 224, 224, 3)"
      ]
    },
    {
      "cell_type": "code",
      "execution_count": null,
      "metadata": {
        "colab": {
          "base_uri": "https://localhost:8080/"
        },
        "id": "QnBqaP98SRRp",
        "outputId": "41eeafb1-001a-462c-934a-cd7d3b2cba1b"
      },
      "outputs": [
        {
          "name": "stdout",
          "output_type": "stream",
          "text": [
            "(2838,)\n",
            "(330,)\n"
          ]
        }
      ],
      "source": [
        "# 17. labels for video data\n",
        "\n",
        "q1 = 1419*[0] #lo\n",
        "q2 = 1419*[1] #hi\n",
        "\n",
        "labels = q1 + q2 # set label = 0 for 'lo' and label = 1 for 'hi'\n",
        "print(np.shape(labels))\n",
        "\n",
        "q1_test = 165*[0] #lo\n",
        "q2_test = 165*[1] #hi\n",
        "\n",
        "# q1_test = 165*[0] #lo\n",
        "# q2_test = 165*[1] #hi\n",
        "\n",
        "labels_test = q1_test + q2_test # set label = 0 for 'lo' and label = 1 for 'hi'\n",
        "print(np.shape(labels_test))\n"
      ]
    },
    {
      "cell_type": "markdown",
      "metadata": {
        "id": "qKLEXB1hyZSR"
      },
      "source": [
        "# Splitting data"
      ]
    },
    {
      "cell_type": "code",
      "execution_count": null,
      "metadata": {
        "colab": {
          "base_uri": "https://localhost:8080/"
        },
        "id": "wAfKN8jOkmec",
        "outputId": "8c1a4828-49d0-4c26-ccbb-6081c226ebcf"
      },
      "outputs": [
        {
          "name": "stdout",
          "output_type": "stream",
          "text": [
            "(66, 5, 224, 224, 3)\n",
            "(66, 5, 224, 224, 3)\n",
            "(66, 5, 224, 224, 3)\n",
            "(66, 5, 224, 224, 3)\n",
            "(66, 5, 224, 224, 3)\n",
            "(66,)\n"
          ]
        }
      ],
      "source": [
        "#//////////////////////PerSub/////////////////////////\n",
        "\n",
        "X_test_sub1 = video_data_test_sub1\n",
        "X_test_sub2 = video_data_test_sub2\n",
        "X_test_sub6 = video_data_test_sub6\n",
        "X_test_sub7 = video_data_test_sub7\n",
        "X_test_sub8 = video_data_test_sub8\n",
        "\n",
        "q1_test = 33*[0] #lo\n",
        "q2_test = 33*[1] #hi\n",
        "\n",
        "Y_test = q1_test + q2_test\n",
        "\n",
        "print(np.shape(X_test_sub1))\n",
        "print(np.shape(X_test_sub2))\n",
        "print(np.shape(X_test_sub6))\n",
        "print(np.shape(X_test_sub7))\n",
        "print(np.shape(X_test_sub8))\n",
        "print(np.shape(Y_test))"
      ]
    },
    {
      "cell_type": "code",
      "execution_count": null,
      "metadata": {
        "colab": {
          "base_uri": "https://localhost:8080/"
        },
        "id": "LlVw5fEvSS1X",
        "outputId": "a4047c8a-bc54-4ae1-8a9f-9a34d6a27053"
      },
      "outputs": [
        {
          "name": "stdout",
          "output_type": "stream",
          "text": [
            "(2838, 5, 224, 224, 3)\n",
            "(330, 5, 224, 224, 3)\n",
            "(2838,)\n",
            "(330,)\n"
          ]
        }
      ],
      "source": [
        "# 18. splitting train and test video data\n",
        "\n",
        "X_train = video_data\n",
        "X_test = video_data_test\n",
        "Y_train = labels\n",
        "Y_test = labels_test\n",
        "\n",
        "print(np.shape(X_train))\n",
        "print(np.shape(X_test))\n",
        "print(np.shape(Y_train))\n",
        "print(np.shape(Y_test))"
      ]
    },
    {
      "cell_type": "code",
      "execution_count": null,
      "metadata": {
        "id": "LmkH7zv9Z6By"
      },
      "outputs": [],
      "source": [
        "# clear memory\n",
        "\n",
        "q1 = []\n",
        "q2 = []\n",
        "q1_test = []\n",
        "q2_test = []\n",
        "labels = []\n",
        "labels_test = []\n",
        "video_data = []\n",
        "video_data_test = []\n",
        "video_q1 = []\n",
        "video_q2 = []\n",
        "video_q1_test = []\n",
        "video_q2_test = []\n",
        "Images_data = []\n",
        "Images_data_test = []\n",
        "X_q1 = []\n",
        "X_q2 = []\n",
        "X_q1_test = []\n",
        "X_q2_test = []"
      ]
    },
    {
      "cell_type": "markdown",
      "metadata": {
        "id": "4gYjfX0aymyZ"
      },
      "source": [
        "# Create and Fit the model"
      ]
    },
    {
      "cell_type": "code",
      "execution_count": null,
      "metadata": {
        "colab": {
          "base_uri": "https://localhost:8080/",
          "height": 1000
        },
        "id": "K2gqvT35SWCP",
        "outputId": "11ef16de-8da3-4691-fa71-72a8bb4c890f"
      },
      "outputs": [
        {
          "name": "stdout",
          "output_type": "stream",
          "text": [
            "Model: \"model_7\"\n",
            "_________________________________________________________________\n",
            " Layer (type)                Output Shape              Param #   \n",
            "=================================================================\n",
            " input_8 (InputLayer)        [(None, 5, 224, 224, 3)]  0         \n",
            "                                                                 \n",
            " time_distributed_3 (TimeDis  (None, 5, 128)           36432896  \n",
            " tributed)                                                       \n",
            "                                                                 \n",
            " bidirectional_6 (Bidirectio  (None, 5, 64)            41216     \n",
            " nal)                                                            \n",
            "                                                                 \n",
            " dropout_3 (Dropout)         (None, 5, 64)             0         \n",
            "                                                                 \n",
            " bidirectional_7 (Bidirectio  (None, 64)               24832     \n",
            " nal)                                                            \n",
            "                                                                 \n",
            " dense_7 (Dense)             (None, 1)                 65        \n",
            "                                                                 \n",
            "=================================================================\n",
            "Total params: 36,499,009\n",
            "Trainable params: 36,445,889\n",
            "Non-trainable params: 53,120\n",
            "_________________________________________________________________\n",
            "Epoch 1/50\n",
            "227/227 [==============================] - ETA: 0s - loss: 0.6682 - acc: 0.6251\n",
            "Epoch 1: val_loss improved from inf to 0.66534, saving model to /content/gdrive/My Drive/Thesis/dDTF_images/2classes/best_model_2classes_alpha_Resnet50LSTM_with_dropout_sigmoid_one_cell.h5\n",
            "227/227 [==============================] - 183s 717ms/step - loss: 0.6682 - acc: 0.6251 - val_loss: 0.6653 - val_acc: 0.6514\n",
            "Epoch 2/50\n",
            "227/227 [==============================] - ETA: 0s - loss: 0.6059 - acc: 0.7648\n",
            "Epoch 2: val_loss improved from 0.66534 to 0.61851, saving model to /content/gdrive/My Drive/Thesis/dDTF_images/2classes/best_model_2classes_alpha_Resnet50LSTM_with_dropout_sigmoid_one_cell.h5\n",
            "227/227 [==============================] - 157s 690ms/step - loss: 0.6059 - acc: 0.7648 - val_loss: 0.6185 - val_acc: 0.7553\n",
            "Epoch 3/50\n",
            "227/227 [==============================] - ETA: 0s - loss: 0.5407 - acc: 0.8313\n",
            "Epoch 3: val_loss improved from 0.61851 to 0.56753, saving model to /content/gdrive/My Drive/Thesis/dDTF_images/2classes/best_model_2classes_alpha_Resnet50LSTM_with_dropout_sigmoid_one_cell.h5\n",
            "227/227 [==============================] - 157s 692ms/step - loss: 0.5407 - acc: 0.8313 - val_loss: 0.5675 - val_acc: 0.7553\n",
            "Epoch 4/50\n",
            "227/227 [==============================] - ETA: 0s - loss: 0.4840 - acc: 0.8762\n",
            "Epoch 4: val_loss improved from 0.56753 to 0.46871, saving model to /content/gdrive/My Drive/Thesis/dDTF_images/2classes/best_model_2classes_alpha_Resnet50LSTM_with_dropout_sigmoid_one_cell.h5\n",
            "227/227 [==============================] - 157s 693ms/step - loss: 0.4840 - acc: 0.8762 - val_loss: 0.4687 - val_acc: 0.8873\n",
            "Epoch 5/50\n",
            "227/227 [==============================] - ETA: 0s - loss: 0.4322 - acc: 0.9009\n",
            "Epoch 5: val_loss improved from 0.46871 to 0.41931, saving model to /content/gdrive/My Drive/Thesis/dDTF_images/2classes/best_model_2classes_alpha_Resnet50LSTM_with_dropout_sigmoid_one_cell.h5\n",
            "227/227 [==============================] - 157s 693ms/step - loss: 0.4322 - acc: 0.9009 - val_loss: 0.4193 - val_acc: 0.8873\n",
            "Epoch 6/50\n",
            "227/227 [==============================] - ETA: 0s - loss: 0.3853 - acc: 0.9264\n",
            "Epoch 6: val_loss improved from 0.41931 to 0.36894, saving model to /content/gdrive/My Drive/Thesis/dDTF_images/2classes/best_model_2classes_alpha_Resnet50LSTM_with_dropout_sigmoid_one_cell.h5\n",
            "227/227 [==============================] - 158s 694ms/step - loss: 0.3853 - acc: 0.9264 - val_loss: 0.3689 - val_acc: 0.9366\n",
            "Epoch 7/50\n",
            "227/227 [==============================] - ETA: 0s - loss: 0.3471 - acc: 0.9471\n",
            "Epoch 7: val_loss improved from 0.36894 to 0.33822, saving model to /content/gdrive/My Drive/Thesis/dDTF_images/2classes/best_model_2classes_alpha_Resnet50LSTM_with_dropout_sigmoid_one_cell.h5\n",
            "227/227 [==============================] - 157s 692ms/step - loss: 0.3471 - acc: 0.9471 - val_loss: 0.3382 - val_acc: 0.9419\n",
            "Epoch 8/50\n",
            "227/227 [==============================] - ETA: 0s - loss: 0.3099 - acc: 0.9595\n",
            "Epoch 8: val_loss did not improve from 0.33822\n",
            "227/227 [==============================] - 153s 674ms/step - loss: 0.3099 - acc: 0.9595 - val_loss: 0.6062 - val_acc: 0.6074\n",
            "Epoch 9/50\n",
            "227/227 [==============================] - ETA: 0s - loss: 0.2795 - acc: 0.9722\n",
            "Epoch 9: val_loss improved from 0.33822 to 0.28263, saving model to /content/gdrive/My Drive/Thesis/dDTF_images/2classes/best_model_2classes_alpha_Resnet50LSTM_with_dropout_sigmoid_one_cell.h5\n",
            "227/227 [==============================] - 157s 693ms/step - loss: 0.2795 - acc: 0.9722 - val_loss: 0.2826 - val_acc: 0.9736\n",
            "Epoch 10/50\n",
            "227/227 [==============================] - ETA: 0s - loss: 0.2554 - acc: 0.9771\n",
            "Epoch 10: val_loss improved from 0.28263 to 0.25107, saving model to /content/gdrive/My Drive/Thesis/dDTF_images/2classes/best_model_2classes_alpha_Resnet50LSTM_with_dropout_sigmoid_one_cell.h5\n",
            "227/227 [==============================] - 156s 689ms/step - loss: 0.2554 - acc: 0.9771 - val_loss: 0.2511 - val_acc: 0.9701\n",
            "Epoch 11/50\n",
            "227/227 [==============================] - ETA: 0s - loss: 0.2258 - acc: 0.9890\n",
            "Epoch 11: val_loss did not improve from 0.25107\n",
            "227/227 [==============================] - 153s 673ms/step - loss: 0.2258 - acc: 0.9890 - val_loss: 0.2663 - val_acc: 0.9630\n",
            "Epoch 12/50\n",
            "227/227 [==============================] - ETA: 0s - loss: 0.2116 - acc: 0.9881\n",
            "Epoch 12: val_loss improved from 0.25107 to 0.20968, saving model to /content/gdrive/My Drive/Thesis/dDTF_images/2classes/best_model_2classes_alpha_Resnet50LSTM_with_dropout_sigmoid_one_cell.h5\n",
            "227/227 [==============================] - 157s 692ms/step - loss: 0.2116 - acc: 0.9881 - val_loss: 0.2097 - val_acc: 0.9877\n",
            "Epoch 13/50\n",
            "227/227 [==============================] - ETA: 0s - loss: 0.1964 - acc: 0.9925\n",
            "Epoch 13: val_loss improved from 0.20968 to 0.20812, saving model to /content/gdrive/My Drive/Thesis/dDTF_images/2classes/best_model_2classes_alpha_Resnet50LSTM_with_dropout_sigmoid_one_cell.h5\n",
            "227/227 [==============================] - 157s 690ms/step - loss: 0.1964 - acc: 0.9925 - val_loss: 0.2081 - val_acc: 0.9947\n",
            "Epoch 14/50\n",
            "227/227 [==============================] - ETA: 0s - loss: 0.1784 - acc: 0.9934\n",
            "Epoch 14: val_loss improved from 0.20812 to 0.17982, saving model to /content/gdrive/My Drive/Thesis/dDTF_images/2classes/best_model_2classes_alpha_Resnet50LSTM_with_dropout_sigmoid_one_cell.h5\n",
            "227/227 [==============================] - 158s 698ms/step - loss: 0.1784 - acc: 0.9934 - val_loss: 0.1798 - val_acc: 0.9982\n",
            "Epoch 15/50\n",
            "227/227 [==============================] - ETA: 0s - loss: 0.1664 - acc: 0.9978\n",
            "Epoch 15: val_loss improved from 0.17982 to 0.16335, saving model to /content/gdrive/My Drive/Thesis/dDTF_images/2classes/best_model_2classes_alpha_Resnet50LSTM_with_dropout_sigmoid_one_cell.h5\n",
            "227/227 [==============================] - 159s 699ms/step - loss: 0.1664 - acc: 0.9978 - val_loss: 0.1634 - val_acc: 0.9965\n",
            "Epoch 16/50\n",
            "227/227 [==============================] - ETA: 0s - loss: 0.1562 - acc: 0.9969\n",
            "Epoch 16: val_loss improved from 0.16335 to 0.15791, saving model to /content/gdrive/My Drive/Thesis/dDTF_images/2classes/best_model_2classes_alpha_Resnet50LSTM_with_dropout_sigmoid_one_cell.h5\n",
            "227/227 [==============================] - 159s 699ms/step - loss: 0.1562 - acc: 0.9969 - val_loss: 0.1579 - val_acc: 0.9982\n",
            "Epoch 17/50\n",
            "227/227 [==============================] - ETA: 0s - loss: 0.1469 - acc: 0.9991\n",
            "Epoch 17: val_loss did not improve from 0.15791\n",
            "227/227 [==============================] - 153s 674ms/step - loss: 0.1469 - acc: 0.9991 - val_loss: 0.2201 - val_acc: 0.9683\n",
            "Epoch 18/50\n",
            "227/227 [==============================] - ETA: 0s - loss: 0.1386 - acc: 0.9991\n",
            "Epoch 18: val_loss improved from 0.15791 to 0.13703, saving model to /content/gdrive/My Drive/Thesis/dDTF_images/2classes/best_model_2classes_alpha_Resnet50LSTM_with_dropout_sigmoid_one_cell.h5\n",
            "227/227 [==============================] - 157s 690ms/step - loss: 0.1386 - acc: 0.9991 - val_loss: 0.1370 - val_acc: 0.9982\n",
            "Epoch 19/50\n",
            "227/227 [==============================] - ETA: 0s - loss: 0.1322 - acc: 0.9987\n",
            "Epoch 19: val_loss did not improve from 0.13703\n",
            "227/227 [==============================] - 153s 674ms/step - loss: 0.1322 - acc: 0.9987 - val_loss: 0.1478 - val_acc: 0.9947\n",
            "Epoch 20/50\n",
            "227/227 [==============================] - ETA: 0s - loss: 0.1234 - acc: 1.0000\n",
            "Epoch 20: val_loss improved from 0.13703 to 0.12562, saving model to /content/gdrive/My Drive/Thesis/dDTF_images/2classes/best_model_2classes_alpha_Resnet50LSTM_with_dropout_sigmoid_one_cell.h5\n",
            "227/227 [==============================] - 159s 700ms/step - loss: 0.1234 - acc: 1.0000 - val_loss: 0.1256 - val_acc: 0.9965\n",
            "Epoch 21/50\n",
            "227/227 [==============================] - ETA: 0s - loss: 0.1183 - acc: 0.9991\n",
            "Epoch 21: val_loss did not improve from 0.12562\n",
            "227/227 [==============================] - 153s 674ms/step - loss: 0.1183 - acc: 0.9991 - val_loss: 0.1349 - val_acc: 0.9947\n",
            "Epoch 22/50\n",
            "227/227 [==============================] - ETA: 0s - loss: 0.1121 - acc: 0.9996\n",
            "Epoch 22: val_loss did not improve from 0.12562\n",
            "227/227 [==============================] - 153s 675ms/step - loss: 0.1121 - acc: 0.9996 - val_loss: 0.1275 - val_acc: 0.9947\n",
            "Epoch 23/50\n",
            "227/227 [==============================] - ETA: 0s - loss: 0.1070 - acc: 1.0000\n",
            "Epoch 23: val_loss improved from 0.12562 to 0.11067, saving model to /content/gdrive/My Drive/Thesis/dDTF_images/2classes/best_model_2classes_alpha_Resnet50LSTM_with_dropout_sigmoid_one_cell.h5\n",
            "227/227 [==============================] - 156s 689ms/step - loss: 0.1070 - acc: 1.0000 - val_loss: 0.1107 - val_acc: 0.9982\n",
            "Epoch 24/50\n",
            "227/227 [==============================] - ETA: 0s - loss: 0.1033 - acc: 1.0000\n",
            "Epoch 24: val_loss did not improve from 0.11067\n",
            "227/227 [==============================] - 153s 674ms/step - loss: 0.1033 - acc: 1.0000 - val_loss: 0.1426 - val_acc: 0.9894\n",
            "Epoch 25/50\n",
            "227/227 [==============================] - ETA: 0s - loss: 0.0993 - acc: 1.0000\n",
            "Epoch 25: val_loss improved from 0.11067 to 0.10062, saving model to /content/gdrive/My Drive/Thesis/dDTF_images/2classes/best_model_2classes_alpha_Resnet50LSTM_with_dropout_sigmoid_one_cell.h5\n",
            "227/227 [==============================] - 156s 689ms/step - loss: 0.0993 - acc: 1.0000 - val_loss: 0.1006 - val_acc: 1.0000\n",
            "Epoch 26/50\n",
            "227/227 [==============================] - ETA: 0s - loss: 0.0960 - acc: 1.0000\n",
            "Epoch 26: val_loss did not improve from 0.10062\n",
            "227/227 [==============================] - 153s 674ms/step - loss: 0.0960 - acc: 1.0000 - val_loss: 0.1233 - val_acc: 0.9930\n",
            "Epoch 27/50\n",
            "227/227 [==============================] - ETA: 0s - loss: 0.0932 - acc: 0.9996\n",
            "Epoch 27: val_loss did not improve from 0.10062\n",
            "227/227 [==============================] - 153s 673ms/step - loss: 0.0932 - acc: 0.9996 - val_loss: 0.1396 - val_acc: 0.9736\n",
            "Epoch 28/50\n",
            "227/227 [==============================] - ETA: 0s - loss: 0.0887 - acc: 1.0000\n",
            "Epoch 28: val_loss improved from 0.10062 to 0.09156, saving model to /content/gdrive/My Drive/Thesis/dDTF_images/2classes/best_model_2classes_alpha_Resnet50LSTM_with_dropout_sigmoid_one_cell.h5\n",
            "227/227 [==============================] - 160s 703ms/step - loss: 0.0887 - acc: 1.0000 - val_loss: 0.0916 - val_acc: 0.9982\n",
            "Epoch 29/50\n",
            "227/227 [==============================] - ETA: 0s - loss: 0.0857 - acc: 0.9996\n",
            "Epoch 29: val_loss did not improve from 0.09156\n",
            "227/227 [==============================] - 153s 675ms/step - loss: 0.0857 - acc: 0.9996 - val_loss: 0.0921 - val_acc: 0.9965\n",
            "Epoch 30/50\n",
            "227/227 [==============================] - ETA: 0s - loss: 0.0832 - acc: 1.0000\n",
            "Epoch 30: val_loss improved from 0.09156 to 0.08543, saving model to /content/gdrive/My Drive/Thesis/dDTF_images/2classes/best_model_2classes_alpha_Resnet50LSTM_with_dropout_sigmoid_one_cell.h5\n",
            "227/227 [==============================] - 158s 695ms/step - loss: 0.0832 - acc: 1.0000 - val_loss: 0.0854 - val_acc: 1.0000\n",
            "Epoch 31/50\n",
            "227/227 [==============================] - ETA: 0s - loss: 0.0814 - acc: 1.0000\n",
            "Epoch 31: val_loss improved from 0.08543 to 0.08252, saving model to /content/gdrive/My Drive/Thesis/dDTF_images/2classes/best_model_2classes_alpha_Resnet50LSTM_with_dropout_sigmoid_one_cell.h5\n",
            "227/227 [==============================] - 159s 701ms/step - loss: 0.0814 - acc: 1.0000 - val_loss: 0.0825 - val_acc: 1.0000\n",
            "Epoch 32/50\n",
            "227/227 [==============================] - ETA: 0s - loss: 0.0783 - acc: 1.0000\n",
            "Epoch 32: val_loss did not improve from 0.08252\n",
            "227/227 [==============================] - 153s 674ms/step - loss: 0.0783 - acc: 1.0000 - val_loss: 0.0836 - val_acc: 1.0000\n",
            "Epoch 33/50\n",
            "227/227 [==============================] - ETA: 0s - loss: 0.0764 - acc: 1.0000\n",
            "Epoch 33: val_loss did not improve from 0.08252\n",
            "227/227 [==============================] - 153s 675ms/step - loss: 0.0764 - acc: 1.0000 - val_loss: 0.0963 - val_acc: 0.9965\n",
            "Epoch 34/50\n",
            "227/227 [==============================] - ETA: 0s - loss: 0.0748 - acc: 1.0000\n",
            "Epoch 34: val_loss improved from 0.08252 to 0.07835, saving model to /content/gdrive/My Drive/Thesis/dDTF_images/2classes/best_model_2classes_alpha_Resnet50LSTM_with_dropout_sigmoid_one_cell.h5\n",
            "227/227 [==============================] - 159s 700ms/step - loss: 0.0748 - acc: 1.0000 - val_loss: 0.0784 - val_acc: 1.0000\n",
            "Epoch 35/50\n",
            "227/227 [==============================] - ETA: 0s - loss: 0.0727 - acc: 1.0000\n",
            "Epoch 35: val_loss improved from 0.07835 to 0.07638, saving model to /content/gdrive/My Drive/Thesis/dDTF_images/2classes/best_model_2classes_alpha_Resnet50LSTM_with_dropout_sigmoid_one_cell.h5\n",
            "227/227 [==============================] - 157s 690ms/step - loss: 0.0727 - acc: 1.0000 - val_loss: 0.0764 - val_acc: 1.0000\n",
            "Epoch 36/50\n",
            "227/227 [==============================] - ETA: 0s - loss: 0.0705 - acc: 1.0000\n",
            "Epoch 36: val_loss improved from 0.07638 to 0.07522, saving model to /content/gdrive/My Drive/Thesis/dDTF_images/2classes/best_model_2classes_alpha_Resnet50LSTM_with_dropout_sigmoid_one_cell.h5\n",
            "227/227 [==============================] - 157s 690ms/step - loss: 0.0705 - acc: 1.0000 - val_loss: 0.0752 - val_acc: 0.9982\n",
            "Epoch 37/50\n",
            "227/227 [==============================] - ETA: 0s - loss: 0.0695 - acc: 1.0000\n",
            "Epoch 37: val_loss did not improve from 0.07522\n",
            "227/227 [==============================] - 153s 674ms/step - loss: 0.0695 - acc: 1.0000 - val_loss: 0.0770 - val_acc: 0.9982\n",
            "Epoch 38/50\n",
            "227/227 [==============================] - ETA: 0s - loss: 0.0669 - acc: 1.0000\n",
            "Epoch 38: val_loss improved from 0.07522 to 0.07047, saving model to /content/gdrive/My Drive/Thesis/dDTF_images/2classes/best_model_2classes_alpha_Resnet50LSTM_with_dropout_sigmoid_one_cell.h5\n",
            "227/227 [==============================] - 159s 702ms/step - loss: 0.0669 - acc: 1.0000 - val_loss: 0.0705 - val_acc: 1.0000\n",
            "Epoch 39/50\n",
            "227/227 [==============================] - ETA: 0s - loss: 0.0662 - acc: 0.9996\n",
            "Epoch 39: val_loss did not improve from 0.07047\n",
            "227/227 [==============================] - 153s 675ms/step - loss: 0.0662 - acc: 0.9996 - val_loss: 0.0911 - val_acc: 0.9947\n",
            "Epoch 40/50\n",
            "227/227 [==============================] - ETA: 0s - loss: 0.0642 - acc: 1.0000\n",
            "Epoch 40: val_loss improved from 0.07047 to 0.06595, saving model to /content/gdrive/My Drive/Thesis/dDTF_images/2classes/best_model_2classes_alpha_Resnet50LSTM_with_dropout_sigmoid_one_cell.h5\n",
            "227/227 [==============================] - 157s 692ms/step - loss: 0.0642 - acc: 1.0000 - val_loss: 0.0660 - val_acc: 1.0000\n",
            "Epoch 41/50\n",
            "227/227 [==============================] - ETA: 0s - loss: 0.0626 - acc: 1.0000\n",
            "Epoch 41: val_loss improved from 0.06595 to 0.06418, saving model to /content/gdrive/My Drive/Thesis/dDTF_images/2classes/best_model_2classes_alpha_Resnet50LSTM_with_dropout_sigmoid_one_cell.h5\n",
            "227/227 [==============================] - 159s 701ms/step - loss: 0.0626 - acc: 1.0000 - val_loss: 0.0642 - val_acc: 1.0000\n",
            "Epoch 42/50\n",
            "227/227 [==============================] - ETA: 0s - loss: 0.0614 - acc: 1.0000\n",
            "Epoch 42: val_loss did not improve from 0.06418\n",
            "227/227 [==============================] - 153s 674ms/step - loss: 0.0614 - acc: 1.0000 - val_loss: 0.0695 - val_acc: 0.9982\n",
            "Epoch 43/50\n",
            "227/227 [==============================] - ETA: 0s - loss: 0.0597 - acc: 1.0000\n",
            "Epoch 43: val_loss did not improve from 0.06418\n",
            "227/227 [==============================] - 153s 673ms/step - loss: 0.0597 - acc: 1.0000 - val_loss: 0.0753 - val_acc: 0.9982\n",
            "Epoch 44/50\n",
            "227/227 [==============================] - ETA: 0s - loss: 0.0588 - acc: 1.0000\n",
            "Epoch 44: val_loss improved from 0.06418 to 0.06304, saving model to /content/gdrive/My Drive/Thesis/dDTF_images/2classes/best_model_2classes_alpha_Resnet50LSTM_with_dropout_sigmoid_one_cell.h5\n",
            "227/227 [==============================] - 159s 699ms/step - loss: 0.0588 - acc: 1.0000 - val_loss: 0.0630 - val_acc: 1.0000\n",
            "Epoch 45/50\n",
            "227/227 [==============================] - ETA: 0s - loss: 0.0581 - acc: 1.0000\n",
            "Epoch 45: val_loss improved from 0.06304 to 0.06080, saving model to /content/gdrive/My Drive/Thesis/dDTF_images/2classes/best_model_2classes_alpha_Resnet50LSTM_with_dropout_sigmoid_one_cell.h5\n",
            "227/227 [==============================] - 157s 690ms/step - loss: 0.0581 - acc: 1.0000 - val_loss: 0.0608 - val_acc: 1.0000\n",
            "Epoch 46/50\n",
            "227/227 [==============================] - ETA: 0s - loss: 0.0564 - acc: 1.0000\n",
            "Epoch 46: val_loss did not improve from 0.06080\n",
            "227/227 [==============================] - 153s 674ms/step - loss: 0.0564 - acc: 1.0000 - val_loss: 0.0628 - val_acc: 0.9982\n",
            "Epoch 47/50\n",
            "227/227 [==============================] - ETA: 0s - loss: 0.0562 - acc: 1.0000\n",
            "Epoch 47: val_loss did not improve from 0.06080\n",
            "227/227 [==============================] - 153s 675ms/step - loss: 0.0562 - acc: 1.0000 - val_loss: 0.0660 - val_acc: 1.0000\n",
            "Epoch 48/50\n",
            "227/227 [==============================] - ETA: 0s - loss: 0.0548 - acc: 1.0000\n",
            "Epoch 48: val_loss did not improve from 0.06080\n",
            "227/227 [==============================] - 153s 673ms/step - loss: 0.0548 - acc: 1.0000 - val_loss: 0.0617 - val_acc: 0.9982\n",
            "Epoch 49/50\n",
            "227/227 [==============================] - ETA: 0s - loss: 0.0535 - acc: 1.0000\n",
            "Epoch 49: val_loss did not improve from 0.06080\n",
            "227/227 [==============================] - 153s 674ms/step - loss: 0.0535 - acc: 1.0000 - val_loss: 0.0677 - val_acc: 0.9965\n",
            "Epoch 50/50\n",
            "227/227 [==============================] - ETA: 0s - loss: 0.0527 - acc: 1.0000\n",
            "Epoch 50: val_loss improved from 0.06080 to 0.05564, saving model to /content/gdrive/My Drive/Thesis/dDTF_images/2classes/best_model_2classes_alpha_Resnet50LSTM_with_dropout_sigmoid_one_cell.h5\n",
            "227/227 [==============================] - 160s 707ms/step - loss: 0.0527 - acc: 1.0000 - val_loss: 0.0556 - val_acc: 1.0000\n"
          ]
        },
        {
          "data": {
            "image/png": "[encoded data removed]",
            "text/plain": [
              "<Figure size 640x480 with 1 Axes>"
            ]
          },
          "metadata": {},
          "output_type": "display_data"
        },
        {
          "data": {
            "image/png": "[encoded data removed]",
            "text/plain": [
              "<Figure size 640x480 with 1 Axes>"
            ]
          },
          "metadata": {},
          "output_type": "display_data"
        },
        {
          "name": "stdout",
          "output_type": "stream",
          "text": [
            "11/11 [==============================] - 11s 389ms/step\n"
          ]
        },
        {
          "data": {
            "image/png": "[encoded data removed]",
            "text/plain": [
              "<Figure size 640x480 with 2 Axes>"
            ]
          },
          "metadata": {},
          "output_type": "display_data"
        },
        {
          "name": "stdout",
          "output_type": "stream",
          "text": [
            "fold_1 test_acc: 0.5\n",
            "fold_1 confusion matrix: \n",
            "[[165   0]\n",
            " [165   0]]\n",
            "\n",
            "Metrics:\n",
            "Sensitivity: 0.50\n",
            "Specificity: nan\n",
            "Precision: 1.00\n",
            "FAR: nan\n",
            "FRR: 0.50\n"
          ]
        },
        {
          "name": "stderr",
          "output_type": "stream",
          "text": [
            "<ipython-input-19-c80d415eac89>:101: RuntimeWarning: invalid value encountered in long_scalars\n",
            "  specificity = TN / (TN + FP)\n",
            "<ipython-input-19-c80d415eac89>:103: RuntimeWarning: invalid value encountered in long_scalars\n",
            "  FAR = FP / (FP + TN)\n"
          ]
        }
      ],
      "source": [
        "# Fit CNN+LSTM model with video data\n",
        "\n",
        "# Initialize empty lists to store the training and validation accuracy\n",
        "# train_acc_list = []\n",
        "# val_acc_list = []\n",
        "# train_loss_list = []\n",
        "# val_loss_list = []\n",
        "fold_count=0\n",
        "hist = {}\n",
        "seed = 7\n",
        "np.random.seed(seed)\n",
        "skf = StratifiedKFold(n_splits=5, shuffle=True, random_state=seed)\n",
        "\n",
        "\n",
        "# Use early stopping to halt the training of the model at the right time based on the validation loss\n",
        "early_stopping = EarlyStopping(monitor='val_loss', patience=10, verbose=1, mode='min')\n",
        "\n",
        "\n",
        "# Define the ModelCheckpoint callback\n",
        "checkpoint = ModelCheckpoint(\n",
        "    model_checkpoint_filepath,\n",
        "    monitor='val_loss',\n",
        "    save_best_only=True,\n",
        "    mode='min',\n",
        "    verbose=1\n",
        ")\n",
        "\n",
        "\n",
        "for train_index, val_index in skf.split(X_train,Y_train):\n",
        "    fold_count = fold_count + 1\n",
        "\n",
        "    x_train, x_val = np.array(X_train)[train_index], np.array(X_train)[val_index]\n",
        "    y_train, y_val = np.array(Y_train)[train_index], np.array(Y_train)[val_index]\n",
        "    y_train = np_utils.to_categorical(y_train)\n",
        "    y_val = np_utils.to_categorical(y_val)\n",
        "\n",
        "    model = create_model()\n",
        "\n",
        "    history = model.fit(\n",
        "        x_train,y_train,\n",
        "        epochs=50,\n",
        "        batch_size=10,  # I got \"ResourceExhaustedError: Graph execution error\" in batch_size=60\n",
        "        validation_data = (x_val,y_val),\n",
        "        shuffle=True,\n",
        "        callbacks=[early_stopping, checkpoint]\n",
        "        )\n",
        "\n",
        "    plot_results(history)\n",
        "\n",
        "    # Load the best model based on the minimum validation loss\n",
        "    best_model = load_model(model_checkpoint_filepath)\n",
        "\n",
        "    test_acc, conf_mat = test_accuracy(best_model, X_test, Y_test) # this model is trained model (after fitting).\n",
        "\n",
        "    print('fold_'+str(fold_count)+' test_acc: '+str(test_acc))\n",
        "    print('fold_'+str(fold_count)+' confusion matrix: ')\n",
        "    print(conf_mat)\n",
        "    print()\n",
        "\n",
        "    hist['fold'+str(fold_count)+'_history'] = history.history\n",
        "    hist['fold'+str(fold_count)+'_results'] = test_acc\n",
        "\n",
        "    # # save lists of val_acc, acc, val_loss and loss for plotting mean_of_all_folds\n",
        "    # train_acc_list.append(history.history['acc'])\n",
        "    # val_acc_list.append(history.history['val_acc'])\n",
        "\n",
        "    # train_loss_list.append(history.history['loss'])\n",
        "    # val_loss_list.append(history.history['val_loss'])\n",
        "\n",
        "    get_model_metrics(conf_mat)\n",
        "\n",
        "    # save history of each fold\n",
        "    with open(history_dir + '_fold_'+str(fold_count), 'wb') as file_pi1:\n",
        "        pickle.dump(hist, file_pi1)\n",
        "\n",
        "    break\n",
        "# plot_mean_of_all_folds(train_acc_list, val_acc_list, train_loss_list, val_loss_list)\n"
      ]
    },
    {
      "cell_type": "code",
      "execution_count": null,
      "metadata": {
        "id": "h018ksthK9qF"
      },
      "outputs": [],
      "source": [
        "# Load the best model based on the minimum validation loss\n",
        "best_model = load_model(model_checkpoint_filepath)\n",
        "\n"
      ]
    },
    {
      "cell_type": "code",
      "execution_count": null,
      "metadata": {
        "colab": {
          "base_uri": "https://localhost:8080/",
          "height": 744
        },
        "id": "TRgiF6mz-2La",
        "outputId": "c4fec0c7-bb26-48e7-9e81-18fa42ad9e91"
      },
      "outputs": [
        {
          "name": "stdout",
          "output_type": "stream",
          "text": [
            "11/11 [==============================] - 21s 528ms/step\n"
          ]
        },
        {
          "data": {
            "image/png": "[encoded data removed]",
            "text/plain": [
              "<Figure size 640x480 with 2 Axes>"
            ]
          },
          "metadata": {},
          "output_type": "display_data"
        },
        {
          "name": "stdout",
          "output_type": "stream",
          "text": [
            " test_acc: 0.8787878787878788\n",
            " confusion matrix: \n",
            "[[151  14]\n",
            " [ 26 139]]\n",
            "\n",
            "Metrics:\n",
            "Sensitivity: 0.85\n",
            "Specificity: 0.91\n",
            "Precision: 0.92\n",
            "FAR: 0.09\n",
            "FRR: 0.15\n"
          ]
        },
        {
          "data": {
            "text/plain": [
              "(0.8531073446327684,\n",
              " 0.9084967320261438,\n",
              " 0.9151515151515152,\n",
              " 0.0915032679738562,\n",
              " 0.14689265536723164)"
            ]
          },
          "execution_count": 15,
          "metadata": {},
          "output_type": "execute_result"
        }
      ],
      "source": [
        "# Load the best model based on the minimum validation loss\n",
        "\n",
        "best_model = load_model(model_checkpoint_filepath)\n",
        "\n",
        "test_acc, conf_mat = test_accuracy(best_model, X_test, Y_test)\n",
        "print(' test_acc: '+str(test_acc))\n",
        "print(' confusion matrix: ')\n",
        "print(conf_mat)\n",
        "print()\n",
        "\n",
        "get_model_metrics(conf_mat)\n"
      ]
    },
    {
      "cell_type": "code",
      "execution_count": null,
      "metadata": {
        "colab": {
          "base_uri": "https://localhost:8080/",
          "height": 1000
        },
        "id": "TXsPGRBnTTb6",
        "outputId": "873b3d10-d944-4698-decc-813b825d6d6c"
      },
      "outputs": [
        {
          "name": "stdout",
          "output_type": "stream",
          "text": [
            "3/3 [==============================] - 4s 556ms/step\n"
          ]
        },
        {
          "data": {
            "image/png": "[encoded data removed]",
            "text/plain": [
              "<Figure size 640x480 with 2 Axes>"
            ]
          },
          "metadata": {},
          "output_type": "display_data"
        },
        {
          "name": "stdout",
          "output_type": "stream",
          "text": [
            "1 test_acc: 0.9090909090909091\n",
            " confusion matrix: \n",
            "[[33  0]\n",
            " [ 6 27]]\n",
            "\n",
            "Metrics:\n",
            "Sensitivity: 0.85\n",
            "Specificity: 1.00\n",
            "Precision: 1.00\n",
            "FAR: 0.00\n",
            "FRR: 0.15\n",
            "**********\n",
            "3/3 [==============================] - 1s 425ms/step\n"
          ]
        },
        {
          "data": {
            "image/png": "[encoded data removed]",
            "text/plain": [
              "<Figure size 640x480 with 2 Axes>"
            ]
          },
          "metadata": {},
          "output_type": "display_data"
        },
        {
          "name": "stdout",
          "output_type": "stream",
          "text": [
            "2 test_acc: 0.9242424242424242\n",
            " confusion matrix: \n",
            "[[28  5]\n",
            " [ 0 33]]\n",
            "\n",
            "Metrics:\n",
            "Sensitivity: 1.00\n",
            "Specificity: 0.87\n",
            "Precision: 0.85\n",
            "FAR: 0.13\n",
            "FRR: 0.00\n",
            "**********\n",
            "3/3 [==============================] - 1s 423ms/step\n"
          ]
        },
        {
          "data": {
            "image/png": "[encoded data removed]",
            "text/plain": [
              "<Figure size 640x480 with 2 Axes>"
            ]
          },
          "metadata": {},
          "output_type": "display_data"
        },
        {
          "name": "stdout",
          "output_type": "stream",
          "text": [
            "3 test_acc: 0.8636363636363636\n",
            " confusion matrix: \n",
            "[[29  4]\n",
            " [ 5 28]]\n",
            "\n",
            "Metrics:\n",
            "Sensitivity: 0.85\n",
            "Specificity: 0.88\n",
            "Precision: 0.88\n",
            "FAR: 0.12\n",
            "FRR: 0.15\n",
            "**********\n",
            "3/3 [==============================] - 1s 425ms/step\n"
          ]
        },
        {
          "data": {
            "image/png": "[encoded data removed]",
            "text/plain": [
              "<Figure size 640x480 with 2 Axes>"
            ]
          },
          "metadata": {},
          "output_type": "display_data"
        },
        {
          "name": "stdout",
          "output_type": "stream",
          "text": [
            "4 test_acc: 0.803030303030303\n",
            " confusion matrix: \n",
            "[[33  0]\n",
            " [13 20]]\n",
            "\n",
            "Metrics:\n",
            "Sensitivity: 0.72\n",
            "Specificity: 1.00\n",
            "Precision: 1.00\n",
            "FAR: 0.00\n",
            "FRR: 0.28\n",
            "**********\n",
            "3/3 [==============================] - 1s 431ms/step\n"
          ]
        },
        {
          "data": {
            "image/png": "[encoded data removed]",
            "text/plain": [
              "<Figure size 640x480 with 2 Axes>"
            ]
          },
          "metadata": {},
          "output_type": "display_data"
        },
        {
          "name": "stdout",
          "output_type": "stream",
          "text": [
            "5 test_acc: 0.8939393939393939\n",
            " confusion matrix: \n",
            "[[28  5]\n",
            " [ 2 31]]\n",
            "\n",
            "Metrics:\n",
            "Sensitivity: 0.93\n",
            "Specificity: 0.86\n",
            "Precision: 0.85\n",
            "FAR: 0.14\n",
            "FRR: 0.07\n",
            "**********\n"
          ]
        }
      ],
      "source": [
        "#/////////////PerSub//////////////////////////\n",
        "for i in range(1,6):\n",
        "  if i == 1:\n",
        "    X_test = X_test_sub1\n",
        "  if i == 2:\n",
        "    X_test = X_test_sub2\n",
        "  if i == 3:\n",
        "    X_test = X_test_sub6\n",
        "  if i == 4:\n",
        "    X_test = X_test_sub7\n",
        "  if i == 5:\n",
        "    X_test = X_test_sub8\n",
        "\n",
        "  test_acc, conf_mat = test_accuracy(best_model, X_test, Y_test)\n",
        "\n",
        "  print(str(i) + ' test_acc: ' +str(test_acc))\n",
        "  print(' confusion matrix: ')\n",
        "  print(conf_mat)\n",
        "  print()\n",
        "\n",
        "  get_model_metrics(conf_mat)\n",
        "  print('**********')"
      ]
    },
    {
      "cell_type": "code",
      "execution_count": null,
      "metadata": {
        "colab": {
          "base_uri": "https://localhost:8080/"
        },
        "id": "I0ko1PyVDEI8",
        "outputId": "180f52c3-3f85-4197-9e7c-26b4085e050b"
      },
      "outputs": [
        {
          "name": "stdout",
          "output_type": "stream",
          "text": [
            "(330, 1)\n",
            "(330,)\n",
            "(330,)\n"
          ]
        }
      ],
      "source": [
        "# print(np.shape(Y_pred))\n",
        "\n",
        "# Y_pred = np.argmax(Y_pred, axis=1) # axis=1 to get the predicted class for each sample\n",
        "\n",
        "# print(np.shape(Y_pred))\n",
        "# print(np.shape(Y_train))\n"
      ]
    },
    {
      "cell_type": "code",
      "execution_count": null,
      "metadata": {
        "colab": {
          "base_uri": "https://localhost:8080/",
          "height": 750
        },
        "id": "Gw7TrWbTC0hU",
        "outputId": "adfc5a34-6327-461d-ad2a-906cdd0a7b90"
      },
      "outputs": [
        {
          "data": {
            "image/png": "[encoded data removed]",
            "text/plain": [
              "<Figure size 640x480 with 2 Axes>"
            ]
          },
          "metadata": {},
          "output_type": "display_data"
        },
        {
          "name": "stdout",
          "output_type": "stream",
          "text": [
            "test_acc: 0.5\n",
            "confusion matrix: \n",
            "[[165   0]\n",
            " [165   0]]\n",
            "\n",
            "Metrics:\n",
            "Sensitivity: 0.50\n",
            "Specificity: nan\n",
            "Precision: 1.00\n",
            "FAR: nan\n",
            "FRR: 0.50\n"
          ]
        },
        {
          "name": "stderr",
          "output_type": "stream",
          "text": [
            "<ipython-input-17-125798cc66e0>:103: RuntimeWarning: invalid value encountered in long_scalars\n",
            "  specificity = TN / (TN + FP)\n",
            "<ipython-input-17-125798cc66e0>:105: RuntimeWarning: invalid value encountered in long_scalars\n",
            "  FAR = FP / (FP + TN)\n"
          ]
        },
        {
          "data": {
            "text/plain": [
              "(0.5, nan, 1.0, nan, 0.5)"
            ]
          },
          "execution_count": 33,
          "metadata": {},
          "output_type": "execute_result"
        }
      ],
      "source": [
        "# test_acc = accuracy_score(Y_train, Y_pred)\n",
        "# cm = confusion_matrix(Y_test, Y_pred)\n",
        "# plt.figure()\n",
        "# plot_conf_mat(cm)\n",
        "\n",
        "# print('test_acc: ' + str(test_acc))\n",
        "# print('confusion matrix: ')\n",
        "# print(conf_mat)\n",
        "# print()\n",
        "\n",
        "# get_model_metrics(conf_mat)\n"
      ]
    }
  ],
  "metadata": {
    "accelerator": "GPU",
    "colab": {
      "gpuType": "T4",
      "machine_shape": "hm",
      "provenance": []
    },
    "kernelspec": {
      "display_name": "Python 3",
      "name": "python3"
    },
    "language_info": {
      "name": "python"
    }
  },
  "nbformat": 4,
  "nbformat_minor": 0
}
